{
 "cells": [
  {
   "cell_type": "markdown",
   "id": "041ab748",
   "metadata": {},
   "source": [
    "초보자를 위한 파이썬 300제 <br>\n",
    "Python300_101_130 <br>\n",
    "문제: 100~130  <br>\n",
    "시작일: 2022.02.20 <br>\n",
    "완료일: 2022.02.20 <br>\n",
    "URL: https://wikidocs.net/7014 <br>\n",
    "도움: https://www.youtube.com/playlist?list=PLNPt2ycoheHqhS_OP4XA8nWycWQWnQtki <br>"
   ]
  },
  {
   "cell_type": "code",
   "execution_count": 6,
   "id": "ec85b930",
   "metadata": {},
   "outputs": [
    {
     "data": {
      "text/plain": [
       "bool"
      ]
     },
     "execution_count": 6,
     "metadata": {},
     "output_type": "execute_result"
    }
   ],
   "source": [
    "#101\n",
    "\n",
    "data = True\n",
    "\n",
    "type(data)"
   ]
  },
  {
   "cell_type": "code",
   "execution_count": 7,
   "id": "cd05f857",
   "metadata": {},
   "outputs": [
    {
     "name": "stdout",
     "output_type": "stream",
     "text": [
      "False\n"
     ]
    }
   ],
   "source": [
    "#102\n",
    "\n",
    "print(3 == 5)"
   ]
  },
  {
   "cell_type": "code",
   "execution_count": 9,
   "id": "99691557",
   "metadata": {},
   "outputs": [
    {
     "name": "stdout",
     "output_type": "stream",
     "text": [
      "True\n"
     ]
    }
   ],
   "source": [
    "#103\n",
    "\n",
    "print(3 < 5)"
   ]
  },
  {
   "cell_type": "code",
   "execution_count": 10,
   "id": "35be29e6",
   "metadata": {},
   "outputs": [
    {
     "name": "stdout",
     "output_type": "stream",
     "text": [
      "True\n"
     ]
    }
   ],
   "source": [
    "#104\n",
    "\n",
    "x = 4\n",
    "print(1 < x < 5)"
   ]
  },
  {
   "cell_type": "code",
   "execution_count": 11,
   "id": "b16a1a2c",
   "metadata": {},
   "outputs": [
    {
     "name": "stdout",
     "output_type": "stream",
     "text": [
      "True\n"
     ]
    }
   ],
   "source": [
    "#105\n",
    "\n",
    "print ((3 == 3) and (4 != 3))"
   ]
  },
  {
   "cell_type": "code",
   "execution_count": 12,
   "id": "49727b2a",
   "metadata": {},
   "outputs": [
    {
     "ename": "SyntaxError",
     "evalue": "expression cannot contain assignment, perhaps you meant \"==\"? (538399936.py, line 3)",
     "output_type": "error",
     "traceback": [
      "\u001b[0;36m  File \u001b[0;32m\"/var/folders/6d/ncj022wn6ssfsn__4xscpf6w0000gn/T/ipykernel_1904/538399936.py\"\u001b[0;36m, line \u001b[0;32m3\u001b[0m\n\u001b[0;31m    print(3 => 4)\u001b[0m\n\u001b[0m          ^\u001b[0m\n\u001b[0;31mSyntaxError\u001b[0m\u001b[0;31m:\u001b[0m expression cannot contain assignment, perhaps you meant \"==\"?\n"
     ]
    }
   ],
   "source": [
    "#106\n",
    "\n",
    "print(3 => 4)"
   ]
  },
  {
   "cell_type": "code",
   "execution_count": 13,
   "id": "7e6bbcc5",
   "metadata": {},
   "outputs": [],
   "source": [
    "#107\n",
    "\n",
    "if 4 < 3:\n",
    "    print(\"Hello World\")"
   ]
  },
  {
   "cell_type": "code",
   "execution_count": 15,
   "id": "d5582cd8",
   "metadata": {},
   "outputs": [
    {
     "name": "stdout",
     "output_type": "stream",
     "text": [
      "Hi, there.\n"
     ]
    }
   ],
   "source": [
    "#108\n",
    "\n",
    "if 4 < 3:\n",
    "    print(\"Hello World.\")\n",
    "else:\n",
    "    print(\"Hi, there.\")"
   ]
  },
  {
   "cell_type": "code",
   "execution_count": 16,
   "id": "4c9e42cd",
   "metadata": {},
   "outputs": [
    {
     "name": "stdout",
     "output_type": "stream",
     "text": [
      "1\n",
      "2\n",
      "4\n"
     ]
    }
   ],
   "source": [
    "#109\n",
    "\n",
    "if True :\n",
    "    print (\"1\")\n",
    "    print (\"2\")\n",
    "else :\n",
    "    print(\"3\")\n",
    "print(\"4\")"
   ]
  },
  {
   "cell_type": "code",
   "execution_count": 17,
   "id": "0825d72b",
   "metadata": {},
   "outputs": [
    {
     "name": "stdout",
     "output_type": "stream",
     "text": [
      "3\n",
      "5\n"
     ]
    }
   ],
   "source": [
    "#110\n",
    "\n",
    "if True :\n",
    "    if False:\n",
    "        print(\"1\")\n",
    "        print(\"2\")\n",
    "    else:\n",
    "        print(\"3\")\n",
    "else :\n",
    "    print(\"4\")\n",
    "print(\"5\")\n"
   ]
  },
  {
   "cell_type": "code",
   "execution_count": 18,
   "id": "1ff86cd8",
   "metadata": {},
   "outputs": [
    {
     "name": "stdout",
     "output_type": "stream",
     "text": [
      "입력:안녕하세요\n",
      "안녕하세요안녕하세요\n"
     ]
    }
   ],
   "source": [
    "#111\n",
    "\n",
    "user = input(\"입력:\")\n",
    "\n",
    "print(user * 2)"
   ]
  },
  {
   "cell_type": "code",
   "execution_count": 20,
   "id": "f5690a21",
   "metadata": {},
   "outputs": [
    {
     "name": "stdout",
     "output_type": "stream",
     "text": [
      "숫자를 입력하세요: 30\n",
      "40\n"
     ]
    }
   ],
   "source": [
    "#112\n",
    "user = input(\"숫자를 입력하세요: \")\n",
    "print(int(user) + 10)"
   ]
  },
  {
   "cell_type": "code",
   "execution_count": 22,
   "id": "9f724445",
   "metadata": {},
   "outputs": [
    {
     "name": "stdout",
     "output_type": "stream",
     "text": [
      "2\n",
      "짝수\n"
     ]
    }
   ],
   "source": [
    "#113\n",
    "\n",
    "user = input(\"\")\n",
    "if int(user) % 2 == 0:\n",
    "    print(\"짝수\")\n",
    "else:\n",
    "    print(\"홀수\")"
   ]
  },
  {
   "cell_type": "code",
   "execution_count": 25,
   "id": "92df7c92",
   "metadata": {},
   "outputs": [
    {
     "name": "stdout",
     "output_type": "stream",
     "text": [
      "240\n",
      "255\n"
     ]
    }
   ],
   "source": [
    "#114\n",
    "\n",
    "user = input(\"\")\n",
    "if int(user) + 20 < 255:\n",
    "    print(int(user) + 20)\n",
    "else:\n",
    "    print(255)"
   ]
  },
  {
   "cell_type": "code",
   "execution_count": 37,
   "id": "054fabfb",
   "metadata": {},
   "outputs": [
    {
     "name": "stdout",
     "output_type": "stream",
     "text": [
      "입력값:25\n",
      "5\n"
     ]
    }
   ],
   "source": [
    "#115\n",
    "\n",
    "user = input(\"입력값:\")\n",
    "num = int(user) - 20\n",
    "    \n",
    "if num > 255:\n",
    "    print(255)\n",
    "elif num < 0:\n",
    "    print(0)\n",
    "else:\n",
    "    print(num)    "
   ]
  },
  {
   "cell_type": "code",
   "execution_count": 39,
   "id": "7cd8b6dc",
   "metadata": {},
   "outputs": [
    {
     "name": "stdout",
     "output_type": "stream",
     "text": [
      "현재시작은 12:00\n",
      "정각입니다\n"
     ]
    }
   ],
   "source": [
    "#116\n",
    "\n",
    "time = input(\"현재시작은 \")\n",
    "\n",
    "if time[-2:] == \"00\":\n",
    "    print(\"정각입니다\")\n",
    "else:\n",
    "    print(\"정각이 아닙니다\")\n",
    "        \n"
   ]
  },
  {
   "cell_type": "code",
   "execution_count": 42,
   "id": "8aab0aeb",
   "metadata": {},
   "outputs": [
    {
     "name": "stdout",
     "output_type": "stream",
     "text": [
      "좋아하는 과일은?사과\n",
      "정답입니다.\n"
     ]
    }
   ],
   "source": [
    "#117\n",
    "\n",
    "fruit = [\"사과\", \"포도\", \"홍시\"]\n",
    "\n",
    "user = input(\"좋아하는 과일은?\")\n",
    "\n",
    "if user in fruit:\n",
    "    print(\"정답입니다.\")\n",
    "else:\n",
    "    print(\"오답입니다.\")\n",
    "\n",
    "\n"
   ]
  },
  {
   "cell_type": "code",
   "execution_count": 43,
   "id": "3caa89f5",
   "metadata": {},
   "outputs": [
    {
     "name": "stdout",
     "output_type": "stream",
     "text": [
      "투자종목: Naver\n",
      "투자 경고 종목입니다\n"
     ]
    }
   ],
   "source": [
    "#118\n",
    "\n",
    "warn_investment_list = [\"Microsoft\", \"Google\", \"Naver\", \"Kakao\", \"SAMSUNG\", \"LG\"]\n",
    "\n",
    "investment_list = input(\"투자종목: \")\n",
    "\n",
    "if investment_list in warn_investment_list:\n",
    "    print(\"투자 경고 종목입니다\")\n",
    "else:\n",
    "    print(\"투자 경고 종목이 아닙니다\")"
   ]
  },
  {
   "cell_type": "code",
   "execution_count": 53,
   "id": "7314c943",
   "metadata": {},
   "outputs": [
    {
     "name": "stdout",
     "output_type": "stream",
     "text": [
      "제가좋아하는계절은: 봄\n",
      "정답입니다.\n"
     ]
    }
   ],
   "source": [
    "#119\n",
    "fruit = {\"봄\" : \"딸기\", \"여름\" : \"토마토\", \"가을\" : \"사과\"}\n",
    "\n",
    "user = input(\"제가좋아하는계절은: \")\n",
    "if user in fruit:\n",
    "    print(\"정답입니다.\")\n",
    "else:\n",
    "    print(\"오답입니다.\")"
   ]
  },
  {
   "cell_type": "code",
   "execution_count": 55,
   "id": "64b2d055",
   "metadata": {},
   "outputs": [
    {
     "name": "stdout",
     "output_type": "stream",
     "text": [
      "좋아하는 과일은?토마토\n",
      "정답입니다.\n"
     ]
    }
   ],
   "source": [
    "#120\n",
    "\n",
    "fruit = {\"봄\" : \"딸기\", \"여름\" : \"토마토\", \"가을\" : \"사과\"}\n",
    "user = input(\"좋아하는 과일은?\")\n",
    "if user in fruit.values():\n",
    "    print(\"정답입니다.\")\n",
    "else:\n",
    "    print(\"오답입니다.\")\n"
   ]
  },
  {
   "cell_type": "code",
   "execution_count": 57,
   "id": "e4c4da3d",
   "metadata": {},
   "outputs": [
    {
     "name": "stdout",
     "output_type": "stream",
     "text": [
      "A\n",
      "a\n"
     ]
    }
   ],
   "source": [
    "#121\n",
    "\n",
    "user = input(\"\")\n",
    "\n",
    "if user.islower():\n",
    "    print(user.upper())\n",
    "else:\n",
    "    print(user.lower())"
   ]
  },
  {
   "cell_type": "code",
   "execution_count": 63,
   "id": "9e031305",
   "metadata": {},
   "outputs": [
    {
     "name": "stdout",
     "output_type": "stream",
     "text": [
      "score: 80\n",
      "grade is B\n"
     ]
    }
   ],
   "source": [
    "#122\n",
    "\n",
    "score = int(input(\"score: \"))\n",
    "\n",
    "if 81 <= score <= 100:\n",
    "    print(\"grade is A\")\n",
    "elif 61 <= score <= 80:\n",
    "    print(\"grade is B\")\n",
    "elif 41 <= score <= 60:\n",
    "    print(\"grade is C\")\n",
    "elif 21 <= score <= 40:\n",
    "    print(\"grade is D\")\n",
    "else:\n",
    "    print(\"grade is E\")"
   ]
  },
  {
   "cell_type": "code",
   "execution_count": 65,
   "id": "332c2efb",
   "metadata": {},
   "outputs": [
    {
     "name": "stdout",
     "output_type": "stream",
     "text": [
      "입력: 100 달러\n",
      "116700.0 원\n"
     ]
    }
   ],
   "source": [
    "#123\n",
    "\n",
    "환율 = {\"달러\":1167, \"엔\":1.096,\"유로\":1268,\"위안\":171}\n",
    "\n",
    "user = input(\"입력: \")\n",
    "\n",
    "num, currency = user.split()\n",
    "print(float(num) * 환율[currency],\"원\")"
   ]
  },
  {
   "cell_type": "code",
   "execution_count": 66,
   "id": "2a89e351",
   "metadata": {},
   "outputs": [
    {
     "name": "stdout",
     "output_type": "stream",
     "text": [
      "input number1: 10\n",
      "input number2: 5\n",
      "input number3: 11\n",
      "11\n"
     ]
    }
   ],
   "source": [
    "#124\n",
    "\n",
    "num1 = input(\"input number1: \")\n",
    "num2 = input(\"input number2: \")\n",
    "num3 = input(\"input number3: \")\n",
    "num1 = int(num1)\n",
    "num2 = int(num2)\n",
    "num3 = int(num3)\n",
    "\n",
    "if num1 >= num2 and num1 >= num3:\n",
    "    print(num1)\n",
    "elif num2 >= num1 and num2 >= num3:\n",
    "    print(num2)\n",
    "else:\n",
    "    print(num3)\n"
   ]
  },
  {
   "cell_type": "code",
   "execution_count": 76,
   "id": "3a380c08",
   "metadata": {},
   "outputs": [
    {
     "name": "stdout",
     "output_type": "stream",
     "text": [
      "휴대전화 번호 입력: 011-345-1922\n",
      "당신은 SKT 사용자 입니다\n"
     ]
    }
   ],
   "source": [
    "#125\n",
    "\n",
    "number = input(\"휴대전화 번호 입력: \")\n",
    "\n",
    "num = number.split(\"-\")[0]\n",
    "\n",
    "if num == \"011\":\n",
    "    com = \"SKT\"\n",
    "elif num == \"016\":\n",
    "    com = \"KT\"\n",
    "elif num == \"019\":\n",
    "    com = \"LGU\"\n",
    "else:\n",
    "    com = \"알수없음\"\n",
    "    \n",
    "print(f\"당신은 {com} 사용자 입니다\")"
   ]
  },
  {
   "cell_type": "code",
   "execution_count": 89,
   "id": "84a2a920",
   "metadata": {},
   "outputs": [
    {
     "name": "stdout",
     "output_type": "stream",
     "text": [
      "우편번호는 01054\n",
      "강북구\n"
     ]
    }
   ],
   "source": [
    "#116\n",
    "\n",
    "number = input(\"우편번호는 \")\n",
    "\n",
    "num = number[:3]\n",
    "\n",
    "if num in [\"010\",\"011\",\"012\"]:\n",
    "    print(\"강북구\")\n",
    "elif 우편번호 in [\"014\", \"015\", \"016\"]:\n",
    "    print(\"도봉구\")\n",
    "else:\n",
    "    print(\"노원구\")\n"
   ]
  },
  {
   "cell_type": "code",
   "execution_count": 97,
   "id": "1814d9b4",
   "metadata": {},
   "outputs": [
    {
     "name": "stdout",
     "output_type": "stream",
     "text": [
      "주민등록번호?: 821010-1635210\n",
      "남자\n"
     ]
    }
   ],
   "source": [
    "#117\n",
    "\n",
    "\n",
    "number = input(\"주민등록번호?: \")\n",
    "\n",
    "num = number.split(\"-\")[1]\n",
    "num = int(num[:1])\n",
    "\n",
    "if num == 1:\n",
    "    print(\"남자\")\n",
    "else:\n",
    "    print(\"여자\")\n",
    "\n",
    "\n"
   ]
  },
  {
   "cell_type": "code",
   "execution_count": 95,
   "id": "7afe7778",
   "metadata": {},
   "outputs": [
    {
     "name": "stdout",
     "output_type": "stream",
     "text": [
      "주민등록번호?: 821010-1635210\n",
      "서울이 아닙니다\n"
     ]
    }
   ],
   "source": [
    "#118\n",
    "\n",
    "number = input(\"주민등록번호?: \")\n",
    "\n",
    "num = number.split(\"-\")[1]\n",
    "num = int(num[:2])\n",
    "\n",
    "if num <= 8:\n",
    "    print(\"서울입니다\")\n",
    "else:\n",
    "    print(\"서울이 아닙니다\")"
   ]
  },
  {
   "cell_type": "code",
   "execution_count": 99,
   "id": "47576e93",
   "metadata": {},
   "outputs": [
    {
     "name": "stdout",
     "output_type": "stream",
     "text": [
      "주민등록번호: 821010-1635210\n",
      "유효하지 않은 주민등록번호입니다.\n"
     ]
    }
   ],
   "source": [
    "#119\n",
    "\n",
    "num = input(\"주민등록번호: \")\n",
    "계산1 = int(num[0]) * 2 + int(num[1]) * 3 + int(num[2]) * 4 + int(num[3]) * 5 + int(num[4]) * 6 + \\\n",
    "        int(num[5]) * 7 + int(num[7]) * 8 + int(num[8]) * 9 + int(num[9]) * 2 + int(num[10])* 3 + \\\n",
    "        int(num[11])* 4 + int(num[12]) * 5\n",
    "계산2 = 11 - (계산1 % 11)\n",
    "계산3 = str(계산2)\n",
    "\n",
    "if num[-1] == 계산3[-1]:\n",
    "    print(\"유효한 주민등록번호입니다.\")\n",
    "else:\n",
    "    print(\"유효하지 않은 주민등록번호입니다.\")\n"
   ]
  },
  {
   "cell_type": "code",
   "execution_count": null,
   "id": "314bc4f8",
   "metadata": {},
   "outputs": [],
   "source": []
  },
  {
   "cell_type": "code",
   "execution_count": null,
   "id": "ca135801",
   "metadata": {},
   "outputs": [],
   "source": []
  }
 ],
 "metadata": {
  "kernelspec": {
   "display_name": "Python 3 (ipykernel)",
   "language": "python",
   "name": "python3"
  },
  "language_info": {
   "codemirror_mode": {
    "name": "ipython",
    "version": 3
   },
   "file_extension": ".py",
   "mimetype": "text/x-python",
   "name": "python",
   "nbconvert_exporter": "python",
   "pygments_lexer": "ipython3",
   "version": "3.9.7"
  }
 },
 "nbformat": 4,
 "nbformat_minor": 5
}

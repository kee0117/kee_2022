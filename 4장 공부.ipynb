{
 "cells": [
  {
   "cell_type": "code",
   "execution_count": 36,
   "id": "cab2f4ca",
   "metadata": {},
   "outputs": [
    {
     "name": "stdout",
     "output_type": "stream",
     "text": [
      "Q1 \n",
      "\n"
     ]
    }
   ],
   "source": [
    "print(\"Q1 \\n\")"
   ]
  },
  {
   "cell_type": "code",
   "execution_count": 37,
   "id": "b3faf590",
   "metadata": {},
   "outputs": [],
   "source": [
    "def is_odd(a):\n",
    "    if a % 2 == 0:\n",
    "        print(\"짝수 입니다\")\n",
    "    else:\n",
    "        print(\"홀수 입니다\")"
   ]
  },
  {
   "cell_type": "code",
   "execution_count": 38,
   "id": "5c312b9f",
   "metadata": {},
   "outputs": [
    {
     "name": "stdout",
     "output_type": "stream",
     "text": [
      "홀수 입니다\n"
     ]
    }
   ],
   "source": [
    "is_odd(3)"
   ]
  },
  {
   "cell_type": "code",
   "execution_count": null,
   "id": "92e0905f",
   "metadata": {},
   "outputs": [],
   "source": []
  },
  {
   "cell_type": "code",
   "execution_count": 39,
   "id": "2a0f0180",
   "metadata": {},
   "outputs": [
    {
     "name": "stdout",
     "output_type": "stream",
     "text": [
      "Q2 \n",
      "\n"
     ]
    }
   ],
   "source": [
    "print(\"Q2 \\n\")"
   ]
  },
  {
   "cell_type": "code",
   "execution_count": 40,
   "id": "f1cf4eef",
   "metadata": {},
   "outputs": [],
   "source": [
    "def is_average(*args):\n",
    "    total = 0\n",
    "    for i in args:\n",
    "        total += i\n",
    "    average = total / len(args)\n",
    "    print(average)"
   ]
  },
  {
   "cell_type": "code",
   "execution_count": 41,
   "id": "28306f27",
   "metadata": {},
   "outputs": [
    {
     "name": "stdout",
     "output_type": "stream",
     "text": [
      "10.0\n"
     ]
    }
   ],
   "source": [
    "is_average(10,10,10)"
   ]
  },
  {
   "cell_type": "code",
   "execution_count": 42,
   "id": "353f3d5e",
   "metadata": {},
   "outputs": [
    {
     "name": "stdout",
     "output_type": "stream",
     "text": [
      "Q3 \n",
      "\n"
     ]
    }
   ],
   "source": [
    "print(\"Q3 \\n\")"
   ]
  },
  {
   "cell_type": "code",
   "execution_count": 46,
   "id": "106878ee",
   "metadata": {},
   "outputs": [
    {
     "name": "stdout",
     "output_type": "stream",
     "text": [
      "첫번째 숫자를 입력하세요:3\n",
      "두번째 숫자를 입력하세요:6\n",
      "두 수의 합은 36 입니다\n"
     ]
    }
   ],
   "source": [
    "# 예시\n",
    "input1 = input(\"첫번째 숫자를 입력하세요:\")\n",
    "input2 = input(\"두번째 숫자를 입력하세요:\")\n",
    "\n",
    "total = input1 + input2\n",
    "print(\"두 수의 합은 %s 입니다\" % total)"
   ]
  },
  {
   "cell_type": "code",
   "execution_count": 47,
   "id": "bd50b074",
   "metadata": {},
   "outputs": [
    {
     "name": "stdout",
     "output_type": "stream",
     "text": [
      "첫번째 숫자를 입력하세요:3\n",
      "두번째 숫자를 입력하세요:6\n",
      "두 수의 합은 9 입니다\n"
     ]
    }
   ],
   "source": [
    "# 수정안\n",
    "\n",
    "input1 = input(\"첫번째 숫자를 입력하세요:\")\n",
    "input2 = input(\"두번째 숫자를 입력하세요:\")\n",
    "\n",
    "total = int(input1) + int(input2)\n",
    "print(\"두 수의 합은 %s 입니다\" % total)"
   ]
  },
  {
   "cell_type": "code",
   "execution_count": 31,
   "id": "610501a9",
   "metadata": {},
   "outputs": [
    {
     "name": "stdout",
     "output_type": "stream",
     "text": [
      "Q4 \n",
      "\n"
     ]
    }
   ],
   "source": [
    "print(\"Q4 \\n\")"
   ]
  },
  {
   "cell_type": "code",
   "execution_count": 25,
   "id": "9500484c",
   "metadata": {},
   "outputs": [
    {
     "name": "stdout",
     "output_type": "stream",
     "text": [
      "youneedpython\n",
      "youneedpython\n",
      "you need python\n",
      "youneedpython\n"
     ]
    }
   ],
   "source": [
    "print(\"you\" \"need\" \"python\")\n",
    "print(\"you\"+\"need\"+\"python\")\n",
    "print(\"you\", \"need\", \"python\") # \",\"는 띄어쓰기가 됨\n",
    "print(\"\".join([\"you\", \"need\", \"python\"]))"
   ]
  },
  {
   "cell_type": "code",
   "execution_count": 30,
   "id": "e0441a8d",
   "metadata": {},
   "outputs": [
    {
     "name": "stdout",
     "output_type": "stream",
     "text": [
      "Q5 \n",
      "\n"
     ]
    }
   ],
   "source": [
    "print(\"Q5 \\n\")"
   ]
  },
  {
   "cell_type": "code",
   "execution_count": 48,
   "id": "54a8ee0d",
   "metadata": {},
   "outputs": [
    {
     "name": "stdout",
     "output_type": "stream",
     "text": [
      "Life is too short\n"
     ]
    }
   ],
   "source": [
    "f1 = open(\"test.txt\", 'w')\n",
    "f1.write(\"Life is too short\")\n",
    "f1.close() # close()를 사용해서 열려 있는 파일을 직접 닫아 주는 것이 좋다. 쓰기모드로 열었던 파일을 닫지 않고 다시 사용하려고 하면 오류가 발생하기 때문이다.\n",
    "\n",
    "f2 = open(\"test.txt\", 'r')\n",
    "print(f2.read())"
   ]
  },
  {
   "cell_type": "code",
   "execution_count": 49,
   "id": "65c54517",
   "metadata": {},
   "outputs": [
    {
     "name": "stdout",
     "output_type": "stream",
     "text": [
      "Q6 \n",
      "\n"
     ]
    }
   ],
   "source": [
    "print(\"Q6 \\n\")"
   ]
  },
  {
   "cell_type": "code",
   "execution_count": 88,
   "id": "cbe7e2e1",
   "metadata": {},
   "outputs": [
    {
     "name": "stdout",
     "output_type": "stream",
     "text": [
      "3\n"
     ]
    }
   ],
   "source": [
    "f1 = open(\"test_q6.txt\", 'a')\n",
    "data = input(\"\")\n",
    "f1.write(data)\n",
    "f1.write(\"\\n\")\n",
    "f1.close()"
   ]
  },
  {
   "cell_type": "code",
   "execution_count": 89,
   "id": "76233b9b",
   "metadata": {},
   "outputs": [
    {
     "name": "stdout",
     "output_type": "stream",
     "text": [
      "1\n",
      "2\n",
      "3\n",
      "\n"
     ]
    }
   ],
   "source": [
    "f2 = open(\"test_q6.txt\", 'r')\n",
    "\n",
    "print(f2.read())"
   ]
  },
  {
   "cell_type": "code",
   "execution_count": 173,
   "id": "6f1957ab",
   "metadata": {},
   "outputs": [
    {
     "name": "stdout",
     "output_type": "stream",
     "text": [
      "Q7 \n",
      "\n"
     ]
    }
   ],
   "source": [
    "print(\"Q7 \\n\")"
   ]
  },
  {
   "cell_type": "code",
   "execution_count": 210,
   "id": "4ee5b795",
   "metadata": {},
   "outputs": [
    {
     "name": "stdout",
     "output_type": "stream",
     "text": [
      "Life is too short \n",
      "you need java\n",
      "Life is too short \n",
      "you need python\n"
     ]
    }
   ],
   "source": [
    "# 문장 들어간 파일 만들기\n",
    "f1 = open(\"test_q8.txt\", 'w')\n",
    "f1.write(\"Life is too short \\nyou need java\")\n",
    "f1.close() \n",
    "\n",
    "# 파일에 들어간 문장 확인\n",
    "f1 = open(\"test_q8.txt\", 'r')\n",
    "print(f1.read())\n",
    "\n",
    "# 파일속 문장 값 변경\n",
    "f2 = open(\"test_q8.txt\", 'r')\n",
    "data = f2.read()\n",
    "data = data.replace('java','python')\n",
    "\n",
    "#변경한 값을 파일에 저장\n",
    "f2 = open(\"test_q8.txt\", 'w')\n",
    "f2.write(data)\n",
    "f2.close()\n",
    "\n",
    "#파일 열어서 확인\n",
    "f2 = open(\"test_q8.txt\", 'r')\n",
    "print(f2.read())\n",
    "\n"
   ]
  },
  {
   "cell_type": "code",
   "execution_count": 211,
   "id": "3616e1c9",
   "metadata": {},
   "outputs": [
    {
     "name": "stdout",
     "output_type": "stream",
     "text": [
      "숫자아구 \n",
      "\n"
     ]
    }
   ],
   "source": [
    "print(\"숫자아구 \\n\")"
   ]
  },
  {
   "cell_type": "code",
   "execution_count": null,
   "id": "6a7045c2",
   "metadata": {},
   "outputs": [],
   "source": []
  },
  {
   "cell_type": "code",
   "execution_count": 374,
   "id": "0832daaa",
   "metadata": {},
   "outputs": [
    {
     "name": "stdout",
     "output_type": "stream",
     "text": [
      "456\n",
      "0\n",
      "0\n",
      "0\n"
     ]
    },
    {
     "ename": "KeyboardInterrupt",
     "evalue": "Interrupted by user",
     "output_type": "error",
     "traceback": [
      "\u001b[0;31m---------------------------------------------------------------------------\u001b[0m",
      "\u001b[0;31mKeyboardInterrupt\u001b[0m                         Traceback (most recent call last)",
      "\u001b[0;32m/var/folders/6d/ncj022wn6ssfsn__4xscpf6w0000gn/T/ipykernel_39029/1886174854.py\u001b[0m in \u001b[0;36m<module>\u001b[0;34m\u001b[0m\n\u001b[1;32m      9\u001b[0m \u001b[0;34m\u001b[0m\u001b[0m\n\u001b[1;32m     10\u001b[0m \u001b[0;32mwhile\u001b[0m \u001b[0;32mTrue\u001b[0m\u001b[0;34m:\u001b[0m\u001b[0;34m\u001b[0m\u001b[0;34m\u001b[0m\u001b[0m\n\u001b[0;32m---> 11\u001b[0;31m     \u001b[0mnumber\u001b[0m \u001b[0;34m=\u001b[0m \u001b[0minput\u001b[0m\u001b[0;34m(\u001b[0m\u001b[0;34m)\u001b[0m\u001b[0;34m\u001b[0m\u001b[0;34m\u001b[0m\u001b[0m\n\u001b[0m\u001b[1;32m     12\u001b[0m     \u001b[0mn1\u001b[0m \u001b[0;34m=\u001b[0m \u001b[0mint\u001b[0m\u001b[0;34m(\u001b[0m\u001b[0mnumber\u001b[0m\u001b[0;34m[\u001b[0m\u001b[0;36m0\u001b[0m\u001b[0;34m]\u001b[0m\u001b[0;34m)\u001b[0m\u001b[0;34m\u001b[0m\u001b[0;34m\u001b[0m\u001b[0m\n\u001b[1;32m     13\u001b[0m     \u001b[0mn2\u001b[0m \u001b[0;34m=\u001b[0m \u001b[0mint\u001b[0m\u001b[0;34m(\u001b[0m\u001b[0mnumber\u001b[0m\u001b[0;34m[\u001b[0m\u001b[0;36m1\u001b[0m\u001b[0;34m]\u001b[0m\u001b[0;34m)\u001b[0m\u001b[0;34m\u001b[0m\u001b[0;34m\u001b[0m\u001b[0m\n",
      "\u001b[0;32m~/opt/anaconda3/lib/python3.9/site-packages/ipykernel/kernelbase.py\u001b[0m in \u001b[0;36mraw_input\u001b[0;34m(self, prompt)\u001b[0m\n\u001b[1;32m   1004\u001b[0m                 \u001b[0;34m\"raw_input was called, but this frontend does not support input requests.\"\u001b[0m\u001b[0;34m\u001b[0m\u001b[0;34m\u001b[0m\u001b[0m\n\u001b[1;32m   1005\u001b[0m             )\n\u001b[0;32m-> 1006\u001b[0;31m         return self._input_request(\n\u001b[0m\u001b[1;32m   1007\u001b[0m             \u001b[0mstr\u001b[0m\u001b[0;34m(\u001b[0m\u001b[0mprompt\u001b[0m\u001b[0;34m)\u001b[0m\u001b[0;34m,\u001b[0m\u001b[0;34m\u001b[0m\u001b[0;34m\u001b[0m\u001b[0m\n\u001b[1;32m   1008\u001b[0m             \u001b[0mself\u001b[0m\u001b[0;34m.\u001b[0m\u001b[0m_parent_ident\u001b[0m\u001b[0;34m[\u001b[0m\u001b[0;34m\"shell\"\u001b[0m\u001b[0;34m]\u001b[0m\u001b[0;34m,\u001b[0m\u001b[0;34m\u001b[0m\u001b[0;34m\u001b[0m\u001b[0m\n",
      "\u001b[0;32m~/opt/anaconda3/lib/python3.9/site-packages/ipykernel/kernelbase.py\u001b[0m in \u001b[0;36m_input_request\u001b[0;34m(self, prompt, ident, parent, password)\u001b[0m\n\u001b[1;32m   1049\u001b[0m             \u001b[0;32mexcept\u001b[0m \u001b[0mKeyboardInterrupt\u001b[0m\u001b[0;34m:\u001b[0m\u001b[0;34m\u001b[0m\u001b[0;34m\u001b[0m\u001b[0m\n\u001b[1;32m   1050\u001b[0m                 \u001b[0;31m# re-raise KeyboardInterrupt, to truncate traceback\u001b[0m\u001b[0;34m\u001b[0m\u001b[0;34m\u001b[0m\u001b[0m\n\u001b[0;32m-> 1051\u001b[0;31m                 \u001b[0;32mraise\u001b[0m \u001b[0mKeyboardInterrupt\u001b[0m\u001b[0;34m(\u001b[0m\u001b[0;34m\"Interrupted by user\"\u001b[0m\u001b[0;34m)\u001b[0m \u001b[0;32mfrom\u001b[0m \u001b[0;32mNone\u001b[0m\u001b[0;34m\u001b[0m\u001b[0;34m\u001b[0m\u001b[0m\n\u001b[0m\u001b[1;32m   1052\u001b[0m             \u001b[0;32mexcept\u001b[0m \u001b[0mException\u001b[0m\u001b[0;34m:\u001b[0m\u001b[0;34m\u001b[0m\u001b[0;34m\u001b[0m\u001b[0m\n\u001b[1;32m   1053\u001b[0m                 \u001b[0mself\u001b[0m\u001b[0;34m.\u001b[0m\u001b[0mlog\u001b[0m\u001b[0;34m.\u001b[0m\u001b[0mwarning\u001b[0m\u001b[0;34m(\u001b[0m\u001b[0;34m\"Invalid Message:\"\u001b[0m\u001b[0;34m,\u001b[0m \u001b[0mexc_info\u001b[0m\u001b[0;34m=\u001b[0m\u001b[0;32mTrue\u001b[0m\u001b[0;34m)\u001b[0m\u001b[0;34m\u001b[0m\u001b[0;34m\u001b[0m\u001b[0m\n",
      "\u001b[0;31mKeyboardInterrupt\u001b[0m: Interrupted by user"
     ]
    }
   ],
   "source": [
    "target = [5,6,7]\n",
    "\n",
    "t1 = int(target[0])\n",
    "t2 = int(target[1])\n",
    "t3 = int(target[2]) \n",
    "\n",
    "strike_count = 0\n",
    "ball_count = 0\n",
    "\n",
    "while True:\n",
    "    number = input()\n",
    "    n1 = int(number[0])\n",
    "    n2 = int(number[1])\n",
    "    n3 = int(number[2])\n",
    "    for n1 in range(0,3):\n",
    "        if n1 == target:\n",
    "            ball_count += 1\n",
    "        print(ball_count)"
   ]
  },
  {
   "cell_type": "code",
   "execution_count": null,
   "id": "8019df26",
   "metadata": {},
   "outputs": [],
   "source": []
  },
  {
   "cell_type": "code",
   "execution_count": null,
   "id": "252cd4a2",
   "metadata": {},
   "outputs": [],
   "source": []
  },
  {
   "cell_type": "code",
   "execution_count": null,
   "id": "63f72b01",
   "metadata": {},
   "outputs": [],
   "source": []
  },
  {
   "cell_type": "code",
   "execution_count": null,
   "id": "68671eb0",
   "metadata": {
    "scrolled": true
   },
   "outputs": [],
   "source": []
  },
  {
   "cell_type": "code",
   "execution_count": 591,
   "id": "2eba5900",
   "metadata": {},
   "outputs": [
    {
     "name": "stdout",
     "output_type": "stream",
     "text": [
      "1 S, 0 B\n"
     ]
    }
   ],
   "source": [
    "target = [5,6,7]\n",
    "number = [3,6,2]\n",
    "strike_count = 0\n",
    "ball_count = 0\n",
    "\n",
    "# strike 개수 구하는 방법\n",
    "for i in range(0,3): \n",
    "    if target[i] == number[i]: \n",
    "        strike_count = strike_count + 1 \n",
    "        \n",
    "# ball 개수 구하는 방법\n",
    "for i in range(0,3):\n",
    "    if target[i] != number[i]:\n",
    "        if target[i] in number: \n",
    "            ball_count = ball_count + 1\n",
    "\n",
    "print(\"%d S, %d B\" % (strike_count, ball_count))"
   ]
  },
  {
   "cell_type": "code",
   "execution_count": 592,
   "id": "d706f223",
   "metadata": {},
   "outputs": [
    {
     "name": "stdout",
     "output_type": "stream",
     "text": [
      "1234\n",
      "0 S, 0 B\n"
     ]
    }
   ],
   "source": [
    "target = [5,6,7]\n",
    "\n",
    "number = list(input())\n",
    "number = [int(i) for i in number]\n",
    "\n",
    "strike_count = 0\n",
    "ball_count = 0\n",
    "\n",
    "# strike 개수 구하는 방법\n",
    "for i in range(0,3): \n",
    "    if target[i] == number[i]: \n",
    "        strike_count = strike_count + 1 \n",
    "        \n",
    "# ball 개수 구하는 방법\n",
    "for i in range(0,3):\n",
    "    if target[i] != number[i]:\n",
    "        if target[i] in number: \n",
    "            ball_count = ball_count + 1\n",
    "\n",
    "print(\"%d S, %d B\" % (strike_count, ball_count))"
   ]
  },
  {
   "cell_type": "code",
   "execution_count": null,
   "id": "2848b5c5",
   "metadata": {},
   "outputs": [
    {
     "name": "stdout",
     "output_type": "stream",
     "text": [
      "숫자야구\n",
      "0~9까지의 숫자 3개를 입력하세요(ex.123):111\n",
      "올바른 값을 입력하세요\n",
      "아웃\n"
     ]
    }
   ],
   "source": [
    "print(\"숫자야구\")\n",
    "strike_count = 0 \n",
    "ball_count = 0\n",
    "\n",
    "while strike_count < 3:\n",
    "    target = [5,6,7] #정답, 랜덤으로 값을 정하는 것까지는 못함\n",
    "   \n",
    "    number = list(input(\"0~9까지의 숫자 3개를 입력하세요(ex.123):\"))#연속된 값 3개를 입력\n",
    "    number = [int(i) for i in number] #입력된 값이 str로 저장되서, int로 변경 \n",
    "    if len(number) != 3 or len(set(number)) != 3 :\n",
    "        print(\"올바른 값을 입력하세요\")\n",
    "        \n",
    "    strike_count = 0 \n",
    "    ball_count = 0\n",
    " \n",
    "    for i in range(0,3): #strike값 구하는 방법\n",
    "        if target[i] == number[i]: \n",
    "            strike_count = strike_count + 1 \n",
    "\n",
    "    for i in range(0,3): #ball값 구하는 방법\n",
    "        if target[i] != number[i]: #ball을 구할때 strike값은 제외되도록\n",
    "            if target[i] in number: \n",
    "                ball_count = ball_count + 1\n",
    "\n",
    "    if len(number) == 3 and strike_count == 0 and ball_count == 0: #숫자와 위치 모두 틀린 경우\n",
    "        print(\"아웃\")\n",
    "        \n",
    "    else:\n",
    "        print(\"%d S, %d B\" % (strike_count, ball_count))"
   ]
  },
  {
   "cell_type": "code",
   "execution_count": null,
   "id": "0fbb3bbc",
   "metadata": {},
   "outputs": [],
   "source": []
  },
  {
   "cell_type": "code",
   "execution_count": null,
   "id": "a9302625",
   "metadata": {
    "scrolled": true
   },
   "outputs": [
    {
     "name": "stdout",
     "output_type": "stream",
     "text": [
      "숫자야구\n",
      "0~9까지의 숫자 3개를 입력하세요:123\n",
      "아웃\n",
      "0~9까지의 숫자 3개를 입력하세요:353\n",
      "올바른 값을 입력하세요. (ex:123, 조건: 중복 불가 and 3자리 숫자 입력)\n",
      "0~9까지의 숫자 3개를 입력하세요:322\n",
      "올바른 값을 입력하세요. (ex:123, 조건: 중복 불가 and 3자리 숫자 입력)\n",
      "0~9까지의 숫자 3개를 입력하세요:123\n",
      "아웃\n",
      "0~9까지의 숫자 3개를 입력하세요:546\n",
      "1 S, 1 B\n"
     ]
    }
   ],
   "source": [
    "print(\"숫자야구\")\n",
    "\n",
    "def input_number(odd): #중복되지 않는 3개 숫자를 입력 안하면 오류 문구 출력하는 함수\n",
    "    number = str(odd)\n",
    "    number = [int(i) for i in number]\n",
    "    if len(number) != 3 or len(set(number)) != 3 :\n",
    "        return \"올바른 값을 입력하세요. (ex:123, 조건: 중복 불가 and 3자리 숫자 입력)\"\n",
    "    return number\n",
    "\n",
    "strike_count = 0 #while문의 조건을 만들기 위해서 생성\n",
    "ball_count = 0\n",
    "\n",
    "while strike_count < 3:\n",
    "    target = [5,6,7] #정답, 랜덤으로 값을 정하는 것까지는 못함\n",
    "    \n",
    "    number = input_number(input(\"0~9까지의 숫자 3개를 입력하세요:\")) #연속된 값 3개를 입력\n",
    "\n",
    "    if type(number) is str: #number값이 안내 문구가 되서 str이 될 경우, 안내문구만 출력하고 다시 시작\n",
    "        print(number)\n",
    "        continue    \n",
    "    \n",
    "    strike_count = 0 #이게 없으면, while문이 종료 될때까지 값이 중첩됨\n",
    "    ball_count = 0\n",
    " \n",
    "    for i in range(0,3): #strike값 구하는 방법\n",
    "        if target[i] == number[i]: \n",
    "            strike_count = strike_count + 1 \n",
    "\n",
    "    for i in range(0,3): #ball값 구하는 방법\n",
    "        if target[i] != number[i]: #ball을 구할때 strike값은 제외되도록\n",
    "            if target[i] in number: \n",
    "                ball_count = ball_count + 1\n",
    "\n",
    "    if strike_count == 0 and ball_count == 0: #숫자와 위치 모두 틀린 경우\n",
    "        print(\"아웃\")\n",
    "        \n",
    "    else:\n",
    "        print(\"%d S, %d B\" % (strike_count, ball_count))\n"
   ]
  },
  {
   "cell_type": "code",
   "execution_count": null,
   "id": "dec8670c",
   "metadata": {},
   "outputs": [],
   "source": []
  },
  {
   "cell_type": "code",
   "execution_count": null,
   "id": "0ad4b904",
   "metadata": {},
   "outputs": [],
   "source": []
  },
  {
   "cell_type": "code",
   "execution_count": null,
   "id": "436730ce",
   "metadata": {},
   "outputs": [],
   "source": []
  },
  {
   "cell_type": "code",
   "execution_count": null,
   "id": "ea32c6c6",
   "metadata": {},
   "outputs": [],
   "source": []
  },
  {
   "cell_type": "code",
   "execution_count": null,
   "id": "86103fc0",
   "metadata": {},
   "outputs": [],
   "source": []
  }
 ],
 "metadata": {
  "kernelspec": {
   "display_name": "Python 3 (ipykernel)",
   "language": "python",
   "name": "python3"
  },
  "language_info": {
   "codemirror_mode": {
    "name": "ipython",
    "version": 3
   },
   "file_extension": ".py",
   "mimetype": "text/x-python",
   "name": "python",
   "nbconvert_exporter": "python",
   "pygments_lexer": "ipython3",
   "version": "3.9.7"
  }
 },
 "nbformat": 4,
 "nbformat_minor": 5
}

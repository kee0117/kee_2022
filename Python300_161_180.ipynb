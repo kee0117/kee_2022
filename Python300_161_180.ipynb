{
 "cells": [
  {
   "cell_type": "markdown",
   "id": "8846895c",
   "metadata": {},
   "source": [
    "초보자를 위한 파이썬 300제 <br>\n",
    "Python300_161_180 <br>\n",
    "문제: 161~180  <br>\n",
    "시작일: 2022.05.22 <br>\n",
    "완료일: 2022.05.22 <br>\n",
    "URL: https://wikidocs.net/7014 <br>\n",
    "도움: https://www.youtube.com/playlist?list=PLNPt2ycoheHqhS_OP4XA8nWycWQWnQtki <br>"
   ]
  },
  {
   "cell_type": "code",
   "execution_count": 80,
   "id": "e837bfb7",
   "metadata": {},
   "outputs": [
    {
     "name": "stdout",
     "output_type": "stream",
     "text": [
      "0\n",
      "1\n",
      "2\n",
      "3\n",
      "4\n",
      "5\n",
      "6\n",
      "7\n",
      "8\n",
      "9\n",
      "10\n",
      "11\n",
      "12\n",
      "13\n",
      "14\n",
      "15\n",
      "16\n",
      "17\n",
      "18\n",
      "19\n",
      "20\n",
      "21\n",
      "22\n",
      "23\n",
      "24\n",
      "25\n",
      "26\n",
      "27\n",
      "28\n",
      "29\n",
      "30\n",
      "31\n",
      "32\n",
      "33\n",
      "34\n",
      "35\n",
      "36\n",
      "37\n",
      "38\n",
      "39\n",
      "40\n",
      "41\n",
      "42\n",
      "43\n",
      "44\n",
      "45\n",
      "46\n",
      "47\n",
      "48\n",
      "49\n",
      "50\n",
      "51\n",
      "52\n",
      "53\n",
      "54\n",
      "55\n",
      "56\n",
      "57\n",
      "58\n",
      "59\n",
      "60\n",
      "61\n",
      "62\n",
      "63\n",
      "64\n",
      "65\n",
      "66\n",
      "67\n",
      "68\n",
      "69\n",
      "70\n",
      "71\n",
      "72\n",
      "73\n",
      "74\n",
      "75\n",
      "76\n",
      "77\n",
      "78\n",
      "79\n",
      "80\n",
      "81\n",
      "82\n",
      "83\n",
      "84\n",
      "85\n",
      "86\n",
      "87\n",
      "88\n",
      "89\n",
      "90\n",
      "91\n",
      "92\n",
      "93\n",
      "94\n",
      "95\n",
      "96\n",
      "97\n",
      "98\n",
      "99\n"
     ]
    }
   ],
   "source": [
    "#161\n",
    "\n",
    "for data in range(100):\n",
    "    print(data)"
   ]
  },
  {
   "cell_type": "code",
   "execution_count": 24,
   "id": "ac94e4bf",
   "metadata": {},
   "outputs": [
    {
     "name": "stdout",
     "output_type": "stream",
     "text": [
      "2002\n",
      "2006\n",
      "2010\n",
      "2014\n",
      "2018\n",
      "2022\n",
      "2026\n",
      "2030\n",
      "2034\n",
      "2038\n",
      "2042\n",
      "2046\n",
      "2050\n"
     ]
    }
   ],
   "source": [
    "#162\n",
    "for i in range(2002, 2051, 4):\n",
    "    print(i)"
   ]
  },
  {
   "cell_type": "code",
   "execution_count": 25,
   "id": "167655db",
   "metadata": {},
   "outputs": [
    {
     "name": "stdout",
     "output_type": "stream",
     "text": [
      "3\n",
      "6\n",
      "9\n",
      "12\n",
      "15\n",
      "18\n",
      "21\n",
      "24\n",
      "27\n",
      "30\n"
     ]
    }
   ],
   "source": [
    "#163\n",
    "for i in range(1, 31):\n",
    "    if i % 3 == 0:\n",
    "        print(i)"
   ]
  },
  {
   "cell_type": "code",
   "execution_count": 26,
   "id": "61eb9936",
   "metadata": {},
   "outputs": [
    {
     "name": "stdout",
     "output_type": "stream",
     "text": [
      "99\n",
      "98\n",
      "97\n",
      "96\n",
      "95\n",
      "94\n",
      "93\n",
      "92\n",
      "91\n",
      "90\n",
      "89\n",
      "88\n",
      "87\n",
      "86\n",
      "85\n",
      "84\n",
      "83\n",
      "82\n",
      "81\n",
      "80\n",
      "79\n",
      "78\n",
      "77\n",
      "76\n",
      "75\n",
      "74\n",
      "73\n",
      "72\n",
      "71\n",
      "70\n",
      "69\n",
      "68\n",
      "67\n",
      "66\n",
      "65\n",
      "64\n",
      "63\n",
      "62\n",
      "61\n",
      "60\n",
      "59\n",
      "58\n",
      "57\n",
      "56\n",
      "55\n",
      "54\n",
      "53\n",
      "52\n",
      "51\n",
      "50\n",
      "49\n",
      "48\n",
      "47\n",
      "46\n",
      "45\n",
      "44\n",
      "43\n",
      "42\n",
      "41\n",
      "40\n",
      "39\n",
      "38\n",
      "37\n",
      "36\n",
      "35\n",
      "34\n",
      "33\n",
      "32\n",
      "31\n",
      "30\n",
      "29\n",
      "28\n",
      "27\n",
      "26\n",
      "25\n",
      "24\n",
      "23\n",
      "22\n",
      "21\n",
      "20\n",
      "19\n",
      "18\n",
      "17\n",
      "16\n",
      "15\n",
      "14\n",
      "13\n",
      "12\n",
      "11\n",
      "10\n",
      "9\n",
      "8\n",
      "7\n",
      "6\n",
      "5\n",
      "4\n",
      "3\n",
      "2\n",
      "1\n",
      "0\n"
     ]
    }
   ],
   "source": [
    "#164\n",
    "for i in range(100):\n",
    "    print(99-i)"
   ]
  },
  {
   "cell_type": "code",
   "execution_count": 27,
   "id": "143d1650",
   "metadata": {},
   "outputs": [
    {
     "name": "stdout",
     "output_type": "stream",
     "text": [
      "0.0\n",
      "0.1\n",
      "0.2\n",
      "0.3\n",
      "0.4\n",
      "0.5\n",
      "0.6\n",
      "0.7\n",
      "0.8\n",
      "0.9\n"
     ]
    }
   ],
   "source": [
    "#165\n",
    "for i in range(10):\n",
    "    print(i / 10)"
   ]
  },
  {
   "cell_type": "code",
   "execution_count": 28,
   "id": "5a44b16f",
   "metadata": {},
   "outputs": [
    {
     "name": "stdout",
     "output_type": "stream",
     "text": [
      "3x 1 = 3\n",
      "3x 2 = 6\n",
      "3x 3 = 9\n",
      "3x 4 = 12\n",
      "3x 5 = 15\n",
      "3x 6 = 18\n",
      "3x 7 = 21\n",
      "3x 8 = 24\n",
      "3x 9 = 27\n"
     ]
    }
   ],
   "source": [
    "#166\n",
    "for i in range(1,10):\n",
    "    print(\"3x\",i,\"=\",3*i)"
   ]
  },
  {
   "cell_type": "code",
   "execution_count": 29,
   "id": "224a71a5",
   "metadata": {},
   "outputs": [
    {
     "name": "stdout",
     "output_type": "stream",
     "text": [
      "3x 1 = 3\n",
      "3x 3 = 9\n",
      "3x 5 = 15\n",
      "3x 7 = 21\n",
      "3x 9 = 27\n"
     ]
    }
   ],
   "source": [
    "#167\n",
    "for i in range(1,10,2):\n",
    "    print(\"3x\",i,\"=\",3*i)"
   ]
  },
  {
   "cell_type": "code",
   "execution_count": 39,
   "id": "b7bebefc",
   "metadata": {},
   "outputs": [
    {
     "name": "stdout",
     "output_type": "stream",
     "text": [
      "55\n"
     ]
    }
   ],
   "source": [
    "#168\n",
    "data = 0\n",
    "for i in range(1,11):\n",
    "    data += i\n",
    "print(hab)"
   ]
  },
  {
   "cell_type": "code",
   "execution_count": 41,
   "id": "7c3d466f",
   "metadata": {},
   "outputs": [
    {
     "name": "stdout",
     "output_type": "stream",
     "text": [
      "25\n"
     ]
    }
   ],
   "source": [
    "#169\n",
    "data = 0\n",
    "for i in range(1,11,2):\n",
    "    data += i\n",
    "print(data)"
   ]
  },
  {
   "cell_type": "code",
   "execution_count": 49,
   "id": "2bf25ff8",
   "metadata": {},
   "outputs": [
    {
     "name": "stdout",
     "output_type": "stream",
     "text": [
      "3628800\n"
     ]
    }
   ],
   "source": [
    "#170\n",
    "data = 1\n",
    "for i in range(1,11):\n",
    "    data *= i\n",
    "print(data)"
   ]
  },
  {
   "cell_type": "code",
   "execution_count": 52,
   "id": "9b7c231c",
   "metadata": {},
   "outputs": [
    {
     "name": "stdout",
     "output_type": "stream",
     "text": [
      "32100\n",
      "32150\n",
      "32000\n",
      "32500\n"
     ]
    }
   ],
   "source": [
    "#171\n",
    "price_list = [32100, 32150, 32000, 32500]\n",
    "\n",
    "for i in range(len(price_list)):\n",
    "    print(price_list[i])"
   ]
  },
  {
   "cell_type": "code",
   "execution_count": 57,
   "id": "b1d16a12",
   "metadata": {},
   "outputs": [
    {
     "name": "stdout",
     "output_type": "stream",
     "text": [
      "0 32100\n",
      "1 32150\n",
      "2 32000\n",
      "3 32500\n"
     ]
    }
   ],
   "source": [
    "#172\n",
    "price_list = [32100, 32150, 32000, 32500]\n",
    "\n",
    "for i in range(len(price_list)):\n",
    "    print(i, price_list[i])"
   ]
  },
  {
   "cell_type": "code",
   "execution_count": 60,
   "id": "8d76b594",
   "metadata": {},
   "outputs": [
    {
     "name": "stdout",
     "output_type": "stream",
     "text": [
      "3 32100\n",
      "2 32150\n",
      "1 32000\n",
      "0 32500\n"
     ]
    }
   ],
   "source": [
    "#173\n",
    "price_list = [32100, 32150, 32000, 32500]\n",
    "\n",
    "for i in range(len(price_list)):\n",
    "    print(3-i, price_list[i])"
   ]
  },
  {
   "cell_type": "code",
   "execution_count": 66,
   "id": "655545e3",
   "metadata": {},
   "outputs": [
    {
     "name": "stdout",
     "output_type": "stream",
     "text": [
      "110 32150\n",
      "220 32000\n",
      "330 32500\n"
     ]
    }
   ],
   "source": [
    "#174\n",
    "price_list = [32100, 32150, 32000, 32500]\n",
    "\n",
    "for i in range(len(price_list))[1:]:\n",
    "    print(110*i, price_list[i])"
   ]
  },
  {
   "cell_type": "code",
   "execution_count": 70,
   "id": "cd7cf25b",
   "metadata": {},
   "outputs": [
    {
     "name": "stdout",
     "output_type": "stream",
     "text": [
      "가 나\n",
      "나 다\n",
      "다 라\n"
     ]
    }
   ],
   "source": [
    "#175\n",
    "my_list = [\"가\", \"나\", \"다\", \"라\"]\n",
    "\n",
    "for i in [0,1,2]:\n",
    "    print(my_list[i], my_list[1+i])"
   ]
  },
  {
   "cell_type": "code",
   "execution_count": 73,
   "id": "51d95329",
   "metadata": {},
   "outputs": [
    {
     "name": "stdout",
     "output_type": "stream",
     "text": [
      "가 나\n",
      "나 다\n",
      "다 라\n"
     ]
    }
   ],
   "source": [
    "#175\n",
    "my_list = [\"가\", \"나\", \"다\", \"라\"]\n",
    "\n",
    "for i in range(len(my_list)-1):\n",
    "    print(my_list[i],my_list[1+i])"
   ]
  },
  {
   "cell_type": "code",
   "execution_count": 75,
   "id": "d24ae880",
   "metadata": {},
   "outputs": [
    {
     "name": "stdout",
     "output_type": "stream",
     "text": [
      "가 나 다\n",
      "나 다 라\n",
      "다 라 마\n"
     ]
    }
   ],
   "source": [
    "#176\n",
    "my_list = [\"가\", \"나\", \"다\", \"라\", \"마\"]\n",
    "\n",
    "for i in range(len(my_list)-2):\n",
    "    print(my_list[i],my_list[1+i], my_list[2+i])"
   ]
  },
  {
   "cell_type": "code",
   "execution_count": 78,
   "id": "194f5962",
   "metadata": {},
   "outputs": [
    {
     "data": {
      "text/plain": [
       "range(0, 4)"
      ]
     },
     "execution_count": 78,
     "metadata": {},
     "output_type": "execute_result"
    }
   ],
   "source": [
    "#177\n",
    "my_list = [\"가\", \"나\", \"다\", \"라\"]\n",
    "\n",
    "for i range(len(my_list)-3):\n",
    "    "
   ]
  },
  {
   "cell_type": "code",
   "execution_count": 79,
   "id": "1cffaf3d",
   "metadata": {},
   "outputs": [],
   "source": [
    "#178 ~ 180 다음에 다시 해보기 어렵다"
   ]
  },
  {
   "cell_type": "code",
   "execution_count": null,
   "id": "7dbd01a3",
   "metadata": {},
   "outputs": [],
   "source": []
  },
  {
   "cell_type": "code",
   "execution_count": null,
   "id": "3215b344",
   "metadata": {},
   "outputs": [],
   "source": []
  },
  {
   "cell_type": "code",
   "execution_count": null,
   "id": "aa5df514",
   "metadata": {},
   "outputs": [],
   "source": []
  },
  {
   "cell_type": "code",
   "execution_count": null,
   "id": "c131b8f8",
   "metadata": {},
   "outputs": [],
   "source": []
  },
  {
   "cell_type": "code",
   "execution_count": null,
   "id": "897d4502",
   "metadata": {},
   "outputs": [],
   "source": []
  },
  {
   "cell_type": "code",
   "execution_count": null,
   "id": "bd0c08ac",
   "metadata": {},
   "outputs": [],
   "source": []
  },
  {
   "cell_type": "code",
   "execution_count": null,
   "id": "e8dbe140",
   "metadata": {},
   "outputs": [],
   "source": []
  },
  {
   "cell_type": "code",
   "execution_count": null,
   "id": "9d5ae1eb",
   "metadata": {},
   "outputs": [],
   "source": []
  },
  {
   "cell_type": "code",
   "execution_count": null,
   "id": "415205ec",
   "metadata": {},
   "outputs": [],
   "source": []
  }
 ],
 "metadata": {
  "kernelspec": {
   "display_name": "Python 3 (ipykernel)",
   "language": "python",
   "name": "python3"
  },
  "language_info": {
   "codemirror_mode": {
    "name": "ipython",
    "version": 3
   },
   "file_extension": ".py",
   "mimetype": "text/x-python",
   "name": "python",
   "nbconvert_exporter": "python",
   "pygments_lexer": "ipython3",
   "version": "3.9.7"
  }
 },
 "nbformat": 4,
 "nbformat_minor": 5
}

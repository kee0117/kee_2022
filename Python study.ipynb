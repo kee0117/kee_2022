{
 "cells": [
  {
   "cell_type": "markdown",
   "id": "93f07df9",
   "metadata": {},
   "source": [
    "정수(int) = 12, -12, 0\n",
    "실수(float) = 1.2 / -1.2"
   ]
  },
  {
   "cell_type": "code",
   "execution_count": 64,
   "id": "678fde95",
   "metadata": {},
   "outputs": [
    {
     "name": "stdout",
     "output_type": "stream",
     "text": [
      "7\n",
      "12\n",
      "-1\n",
      "0.75\n",
      "81 제곱\n",
      "1 나누고 남은 값\n",
      "1 나눗셈 후 몫을 반환\n"
     ]
    }
   ],
   "source": [
    "a = 3\n",
    "b = 4\n",
    "\n",
    "print(a+b) \n",
    "print(a*b)\n",
    "print(a-b)\n",
    "print(a/b)\n",
    "print(a**b, \"제곱\")\n",
    "print(b%a, \"나누고 남은 값\")\n",
    "print(b//a, \"나눗셈 후 몫을 반환\")\n"
   ]
  },
  {
   "cell_type": "code",
   "execution_count": 65,
   "id": "8adf65dd",
   "metadata": {},
   "outputs": [
    {
     "name": "stdout",
     "output_type": "stream",
     "text": [
      "Python's favorite food is perl 큰따옴표로 작은 따옴표 감싸기\n",
      "\"Python is very easy.\" he says. 작은 따옴표로 큰 따옴표 감싸기\n",
      "Python's favorite food is perl 백슬래시로 둘다 감싸기\n",
      "Life is too short \n",
      " You need python /n 으로 줄 바꾸기\n",
      "Life is too short\n",
      "You need python 따옴표 3개 사용\n"
     ]
    }
   ],
   "source": [
    "print(\"Python's favorite food is perl\",\"큰따옴표로 작은 따옴표 감싸기\")\n",
    "print('\"Python is very easy.\" he says.',\"작은 따옴표로 큰 따옴표 감싸기\")\n",
    "print('Python\\'s favorite food is perl', \"백슬래시로 둘다 감싸기\")\n",
    "print(\"Life is too short \\n You need python\", \"/n 으로 줄 바꾸기\")\n",
    "print(\"\"\"Life is too short\n",
    "You need python\"\"\",\"따옴표 3개 사용\")"
   ]
  },
  {
   "cell_type": "code",
   "execution_count": 66,
   "id": "e0868e1d",
   "metadata": {},
   "outputs": [
    {
     "data": {
      "text/plain": [
       "'hello is fun!'"
      ]
     },
     "execution_count": 66,
     "metadata": {},
     "output_type": "execute_result"
    }
   ],
   "source": [
    "head = \"hello\"\n",
    "tail = \" is fun!\"\n",
    "head + tail"
   ]
  },
  {
   "cell_type": "code",
   "execution_count": 67,
   "id": "07763509",
   "metadata": {},
   "outputs": [
    {
     "name": "stdout",
     "output_type": "stream",
     "text": [
      "====================\n",
      "hellohello\n",
      "====================\n"
     ]
    }
   ],
   "source": [
    "print(\"=\" * 20)\n",
    "print(head * 2)\n",
    "print(\"=\" * 20)"
   ]
  },
  {
   "cell_type": "code",
   "execution_count": 68,
   "id": "1f01fec5",
   "metadata": {},
   "outputs": [
    {
     "data": {
      "text/plain": [
       "5"
      ]
     },
     "execution_count": 68,
     "metadata": {},
     "output_type": "execute_result"
    }
   ],
   "source": [
    "len(head)"
   ]
  },
  {
   "cell_type": "code",
   "execution_count": 69,
   "id": "caceb7ce",
   "metadata": {},
   "outputs": [
    {
     "data": {
      "text/plain": [
       "'e'"
      ]
     },
     "execution_count": 69,
     "metadata": {},
     "output_type": "execute_result"
    }
   ],
   "source": [
    "head[1] #파이썬은 0부터 세기 시작"
   ]
  },
  {
   "cell_type": "code",
   "execution_count": 70,
   "id": "f9c14aa0",
   "metadata": {},
   "outputs": [
    {
     "data": {
      "text/plain": [
       "'o'"
      ]
     },
     "execution_count": 70,
     "metadata": {},
     "output_type": "execute_result"
    }
   ],
   "source": [
    "head[-1] #인덱싱의 -값은 뒤에서부터, 단 뒤에서부터는 -1부터"
   ]
  },
  {
   "cell_type": "code",
   "execution_count": 71,
   "id": "e166614b",
   "metadata": {},
   "outputs": [
    {
     "name": "stdout",
     "output_type": "stream",
     "text": [
      "Life // 0부터 3번까지 인덱싱\n",
      "is // 중간부터 인덱싱\n",
      "You need Python // 19번 부터 인덱싱\n",
      "Life is too short // 0번부터 17번까지\n",
      "You need //마이너스 사용 가능, -7번 미포함\n"
     ]
    }
   ],
   "source": [
    "life = \"Life is too short, You need Python\"\n",
    "\n",
    "print(life[0:4], \"// 0부터 3번까지 인덱싱\")\n",
    "print(life[5:7], \"// 중간부터 인덱싱\")\n",
    "print(life[19:], \"// 19번 부터 인덱싱\")\n",
    "print(life[:17], \"// 0번부터 17번까지\")\n",
    "print(life[19:-7],\"//마이너스 사용 가능, -7번 미포함\")"
   ]
  },
  {
   "cell_type": "code",
   "execution_count": 72,
   "id": "b7b6e546",
   "metadata": {},
   "outputs": [],
   "source": [
    "a = \"20010331Rainy\"\n",
    "year = a[:4]\n",
    "day = a[4:8]\n",
    "weater = a[8:]"
   ]
  },
  {
   "cell_type": "code",
   "execution_count": 73,
   "id": "f2b107b5",
   "metadata": {},
   "outputs": [
    {
     "name": "stdout",
     "output_type": "stream",
     "text": [
      "20010331Rainy\n"
     ]
    }
   ],
   "source": [
    "print(year + day + weater)"
   ]
  },
  {
   "cell_type": "code",
   "execution_count": 84,
   "id": "58919874",
   "metadata": {},
   "outputs": [
    {
     "name": "stdout",
     "output_type": "stream",
     "text": [
      "I eat 3 apples. // 숫자는 %d\n",
      "I eat five apples. // 텍스트는 %s\n"
     ]
    }
   ],
   "source": [
    "# 문자열 포매팅\n",
    "print(\"I eat %d apples.\" %3, \"// 숫자는 %d\")\n",
    "print(\"I eat %s apples.\" % \"five\", \"// 텍스트는 %s\")"
   ]
  },
  {
   "cell_type": "code",
   "execution_count": 85,
   "id": "1b62d804",
   "metadata": {},
   "outputs": [
    {
     "data": {
      "text/plain": [
       "'I eat 10 apples. so I was sick for three days.'"
      ]
     },
     "execution_count": 85,
     "metadata": {},
     "output_type": "execute_result"
    }
   ],
   "source": [
    "number = 10\n",
    "day = \"three\"\n",
    "\n",
    "\"I eat %d apples. so I was sick for %s days.\" % (number, day)"
   ]
  },
  {
   "cell_type": "code",
   "execution_count": 87,
   "id": "f2df7ea3",
   "metadata": {},
   "outputs": [
    {
     "name": "stdout",
     "output_type": "stream",
     "text": [
      "Error is 98% // %s와 %를 같이 쓸때는 %%로 표기\n"
     ]
    }
   ],
   "source": [
    "print(\"Error is %d%%\" % 98, \"// %s와 %를 같이 쓸때는 %%로 표기\")"
   ]
  },
  {
   "cell_type": "code",
   "execution_count": null,
   "id": "9c21f804",
   "metadata": {},
   "outputs": [],
   "source": []
  },
  {
   "cell_type": "markdown",
   "id": "d73b3008",
   "metadata": {},
   "source": [
    "## 리스트 자료형"
   ]
  },
  {
   "cell_type": "code",
   "execution_count": 90,
   "id": "b3e42ebb",
   "metadata": {},
   "outputs": [],
   "source": [
    "a = [1,2,3]"
   ]
  },
  {
   "cell_type": "code",
   "execution_count": 97,
   "id": "980efa41",
   "metadata": {},
   "outputs": [
    {
     "name": "stdout",
     "output_type": "stream",
     "text": [
      "1 // 리스트의 첫번째 요소\n",
      "3 // 리스트의 마지막 요소\n"
     ]
    }
   ],
   "source": [
    "print(a[0], \"// 리스트의 첫번째 요소\")\n",
    "print(a[-1], \"// 리스트의 마지막 요소\")"
   ]
  },
  {
   "cell_type": "code",
   "execution_count": 98,
   "id": "6f6dc83f",
   "metadata": {},
   "outputs": [],
   "source": [
    "a = [1, 2, 3, ['a', 'b', 'c']]"
   ]
  },
  {
   "cell_type": "code",
   "execution_count": 100,
   "id": "fe5fdc74",
   "metadata": {},
   "outputs": [
    {
     "name": "stdout",
     "output_type": "stream",
     "text": [
      "['a', 'b', 'c'] //리스트 안에 리스트 포함 가능\n",
      "a //리스트안 리스트의 인덱싱\n"
     ]
    }
   ],
   "source": [
    "print(a[3], \"//리스트 안에 리스트 포함 가능\")\n",
    "print(a[3][0], \"//리스트안 리스트의 인덱싱\")"
   ]
  },
  {
   "cell_type": "code",
   "execution_count": 102,
   "id": "f6d2eb10",
   "metadata": {},
   "outputs": [
    {
     "data": {
      "text/plain": [
       "[1, 2]"
      ]
     },
     "execution_count": 102,
     "metadata": {},
     "output_type": "execute_result"
    }
   ],
   "source": [
    "# 리스트의 슬라이싱\n",
    "a[0:2]"
   ]
  },
  {
   "cell_type": "code",
   "execution_count": 108,
   "id": "1e1520da",
   "metadata": {},
   "outputs": [
    {
     "name": "stdout",
     "output_type": "stream",
     "text": [
      "[1, 2, 3, ['a', 'b', 'c'], 4, 5, 6]\n",
      "[1, 2, 3, ['a', 'b', 'c'], 1, 2, 3, ['a', 'b', 'c']]\n",
      "3 // len()으로 길이 리스트 길이\n"
     ]
    }
   ],
   "source": [
    "# 리스트 연산\n",
    "b = [4,5,6]\n",
    "print(a+b)\n",
    "print(a*2)\n",
    "print(len(b) , \"// len()으로 길이 리스트 길이\")"
   ]
  },
  {
   "cell_type": "code",
   "execution_count": 111,
   "id": "a17e216a",
   "metadata": {},
   "outputs": [
    {
     "data": {
      "text/plain": [
       "[1, 2, 4]"
      ]
     },
     "execution_count": 111,
     "metadata": {},
     "output_type": "execute_result"
    }
   ],
   "source": [
    "#리스트 값 수정\n",
    "a = [1,2,3]\n",
    "a[2] = 4\n",
    "a"
   ]
  },
  {
   "cell_type": "code",
   "execution_count": 114,
   "id": "55aedad8",
   "metadata": {},
   "outputs": [
    {
     "data": {
      "text/plain": [
       "[1, 3]"
      ]
     },
     "execution_count": 114,
     "metadata": {},
     "output_type": "execute_result"
    }
   ],
   "source": [
    "# 리스트 요소 삭제 (del)\n",
    "a = [1,2,3]\n",
    "del a[1]\n",
    "a"
   ]
  },
  {
   "cell_type": "code",
   "execution_count": 116,
   "id": "effeea60",
   "metadata": {},
   "outputs": [
    {
     "data": {
      "text/plain": [
       "[1, 2, 3, 4]"
      ]
     },
     "execution_count": 116,
     "metadata": {},
     "output_type": "execute_result"
    }
   ],
   "source": [
    "# 리스트 요소 추가 (append) + 어떤 자료형도 가능\n",
    "\n",
    "a = [1,2,3]\n",
    "a.append(4)\n",
    "a"
   ]
  },
  {
   "cell_type": "code",
   "execution_count": 120,
   "id": "ebb51616",
   "metadata": {},
   "outputs": [
    {
     "data": {
      "text/plain": [
       "[1, 2, 3, 4]"
      ]
     },
     "execution_count": 120,
     "metadata": {},
     "output_type": "execute_result"
    }
   ],
   "source": [
    "# 리스트 정렬 (sort) + 문자열 가능\n",
    "a = [1,4,3,2]\n",
    "a.sort()\n",
    "a"
   ]
  },
  {
   "cell_type": "code",
   "execution_count": 122,
   "id": "1824572d",
   "metadata": {},
   "outputs": [
    {
     "data": {
      "text/plain": [
       "[4, 3, 2, 1]"
      ]
     },
     "execution_count": 122,
     "metadata": {},
     "output_type": "execute_result"
    }
   ],
   "source": [
    "# 리스트 뒤집기 (reverse)\n",
    "a.reverse()\n",
    "a"
   ]
  },
  {
   "cell_type": "code",
   "execution_count": 138,
   "id": "f2bfa50a",
   "metadata": {},
   "outputs": [
    {
     "data": {
      "text/plain": [
       "1"
      ]
     },
     "execution_count": 138,
     "metadata": {},
     "output_type": "execute_result"
    }
   ],
   "source": [
    "# index()의 값이 있으면 그 값의 위치 반환 (index)\n",
    "a = [1,2,3]\n",
    "a.index(2)"
   ]
  },
  {
   "cell_type": "code",
   "execution_count": 139,
   "id": "98b91b16",
   "metadata": {},
   "outputs": [
    {
     "data": {
      "text/plain": [
       "[4, 1, 2, 3]"
      ]
     },
     "execution_count": 139,
     "metadata": {},
     "output_type": "execute_result"
    }
   ],
   "source": [
    "# insert(a,b) a번째 위치에 b 삽입\n",
    "a.insert(0,4)\n",
    "a"
   ]
  },
  {
   "cell_type": "code",
   "execution_count": 141,
   "id": "e4b98b24",
   "metadata": {},
   "outputs": [
    {
     "data": {
      "text/plain": [
       "[1, 2, 1, 2, 3]"
      ]
     },
     "execution_count": 141,
     "metadata": {},
     "output_type": "execute_result"
    }
   ],
   "source": [
    "#remove(x) 첫번째 나오는 x를 삭제\n",
    "a = [1,2,3,1,2,3]\n",
    "a.remove(3)\n",
    "a"
   ]
  },
  {
   "cell_type": "code",
   "execution_count": 144,
   "id": "5a980e18",
   "metadata": {},
   "outputs": [
    {
     "name": "stdout",
     "output_type": "stream",
     "text": [
      "3 // 마지막 요소 삭제\n",
      "[1, 2] //앞에 요소만 남음\n"
     ]
    }
   ],
   "source": [
    "#pop 리스트의 맨 마지막 요소 돌려주고 삭제\n",
    "a = [1,2,3]\n",
    "print(a.pop(), \"// 마지막 요소 삭제\")\n",
    "print(a, \"//앞에 요소만 남음\")"
   ]
  },
  {
   "cell_type": "code",
   "execution_count": 147,
   "id": "e5739a5e",
   "metadata": {},
   "outputs": [
    {
     "data": {
      "text/plain": [
       "3"
      ]
     },
     "execution_count": 147,
     "metadata": {},
     "output_type": "execute_result"
    }
   ],
   "source": [
    "# count(x) x의 개수 세기\n",
    "a = [1,2,3,1,1,]\n",
    "a.count(1)"
   ]
  },
  {
   "cell_type": "code",
   "execution_count": 151,
   "id": "a9b6539c",
   "metadata": {},
   "outputs": [
    {
     "name": "stdout",
     "output_type": "stream",
     "text": [
      "[1, 2, 3, 4, 5]\n",
      "[1, 2, 3, 4, 5, 7, 8]\n"
     ]
    }
   ],
   "source": [
    "# 리스트 더하기 (extend)\n",
    "\n",
    "a = [1,2,3]\n",
    "a.extend([4,5])\n",
    "print(a)\n",
    "b = [7,8]\n",
    "a.extend(b)\n",
    "print(a)"
   ]
  },
  {
   "cell_type": "markdown",
   "id": "a299067f",
   "metadata": {},
   "source": [
    "## 튜플 자료형\n",
    "### 리스트는 [], 튜플은 ()"
   ]
  },
  {
   "cell_type": "code",
   "execution_count": 152,
   "id": "88bb144f",
   "metadata": {},
   "outputs": [],
   "source": [
    "# 튜플은 요소 삭제나 수정 불가\n",
    "# 인덱싱, 슬라이싱, 계산은 리스트와 동이하게 가능"
   ]
  },
  {
   "cell_type": "markdown",
   "id": "b11aa718",
   "metadata": {},
   "source": []
  },
  {
   "cell_type": "markdown",
   "id": "60771b74",
   "metadata": {},
   "source": [
    "## 딕셔너리\n",
    "### 딕셔너리는 key와 value가 한쌍으로 대응되는 자료형\n",
    "### 딕셔너리는 {}"
   ]
  },
  {
   "cell_type": "code",
   "execution_count": 166,
   "id": "1b4692bb",
   "metadata": {},
   "outputs": [],
   "source": [
    "a = {1:\"a\" , 2:\"b\"}"
   ]
  },
  {
   "cell_type": "code",
   "execution_count": 167,
   "id": "bdd8e013",
   "metadata": {},
   "outputs": [
    {
     "data": {
      "text/plain": [
       "{1: 'a', 2: 'b', 3: 'c'}"
      ]
     },
     "execution_count": 167,
     "metadata": {},
     "output_type": "execute_result"
    }
   ],
   "source": [
    "#쌍 추가\n",
    "a[3] = \"c\"\n",
    "a"
   ]
  },
  {
   "cell_type": "code",
   "execution_count": 168,
   "id": "12b30de5",
   "metadata": {},
   "outputs": [
    {
     "data": {
      "text/plain": [
       "{2: 'b', 3: 'c'}"
      ]
     },
     "execution_count": 168,
     "metadata": {},
     "output_type": "execute_result"
    }
   ],
   "source": [
    "# del(key) key에 맞는 쌍 삭제\n",
    "del a[1]\n",
    "a"
   ]
  },
  {
   "cell_type": "code",
   "execution_count": 176,
   "id": "29f70593",
   "metadata": {},
   "outputs": [
    {
     "name": "stdout",
     "output_type": "stream",
     "text": [
      "b // 딕셔너리에선 key값의 value를 반환\n",
      "3 //리스트에선 위치에 맞는 값 반환\n"
     ]
    }
   ],
   "source": [
    "# key값으로 value 찾기\n",
    "a = {1:\"a\" , 2:\"b\"}\n",
    "print(a[2], \"// 딕셔너리에선 key값의 value를 반환\")\n",
    "b = [1,2,3]\n",
    "print(b[2], \"//리스트에선 위치에 맞는 값 반환\")"
   ]
  },
  {
   "cell_type": "code",
   "execution_count": 178,
   "id": "c600f237",
   "metadata": {},
   "outputs": [
    {
     "data": {
      "text/plain": [
       "{1: 'b'}"
      ]
     },
     "execution_count": 178,
     "metadata": {},
     "output_type": "execute_result"
    }
   ],
   "source": [
    "# 딕셔너리의 key가 중복되면 하나만 사용됨\n",
    "a = {1:\"a\" , 1:\"b\"}\n",
    "a"
   ]
  },
  {
   "cell_type": "markdown",
   "id": "08a23479",
   "metadata": {},
   "source": [
    "# Q) key가 중복될때 어떤것이 사용 되는 지?"
   ]
  },
  {
   "cell_type": "code",
   "execution_count": null,
   "id": "0b0b47b2",
   "metadata": {},
   "outputs": [],
   "source": []
  },
  {
   "cell_type": "code",
   "execution_count": 179,
   "id": "f30cf177",
   "metadata": {},
   "outputs": [
    {
     "data": {
      "text/plain": [
       "dict_keys([1, 2])"
      ]
     },
     "execution_count": 179,
     "metadata": {},
     "output_type": "execute_result"
    }
   ],
   "source": [
    "# key리스트 만들기 (keys)\n",
    "a = {1:\"a\" , 2:\"b\"}\n",
    "a.keys()"
   ]
  },
  {
   "cell_type": "code",
   "execution_count": 180,
   "id": "5af88320",
   "metadata": {},
   "outputs": [
    {
     "data": {
      "text/plain": [
       "dict_values(['a', 'b'])"
      ]
     },
     "execution_count": 180,
     "metadata": {},
     "output_type": "execute_result"
    }
   ],
   "source": [
    "#value 리스트 만들기 (values)\n",
    "a.values()"
   ]
  },
  {
   "cell_type": "code",
   "execution_count": 181,
   "id": "146471a2",
   "metadata": {},
   "outputs": [
    {
     "data": {
      "text/plain": [
       "dict_items([(1, 'a'), (2, 'b')])"
      ]
     },
     "execution_count": 181,
     "metadata": {},
     "output_type": "execute_result"
    }
   ],
   "source": [
    "#쌍 얻기 (items)\n",
    "a.items()"
   ]
  },
  {
   "cell_type": "code",
   "execution_count": 186,
   "id": "5a16f378",
   "metadata": {},
   "outputs": [
    {
     "data": {
      "text/plain": [
       "{}"
      ]
     },
     "execution_count": 186,
     "metadata": {},
     "output_type": "execute_result"
    }
   ],
   "source": [
    "#쌍 지우기\n",
    "a.clear()\n",
    "a"
   ]
  },
  {
   "cell_type": "code",
   "execution_count": 187,
   "id": "b8dc6c50",
   "metadata": {},
   "outputs": [
    {
     "data": {
      "text/plain": [
       "'a'"
      ]
     },
     "execution_count": 187,
     "metadata": {},
     "output_type": "execute_result"
    }
   ],
   "source": [
    "# key값으로 value얻기 (get)\n",
    "a = {1:\"a\" , 2:\"b\"}\n",
    "a.get(1)"
   ]
  },
  {
   "cell_type": "code",
   "execution_count": 191,
   "id": "6f504de5",
   "metadata": {},
   "outputs": [
    {
     "data": {
      "text/plain": [
       "'c'"
      ]
     },
     "execution_count": 191,
     "metadata": {},
     "output_type": "execute_result"
    }
   ],
   "source": [
    "#get의 디폴트값 사용 get(x,디폴트 값)\n",
    "a.get(3,\"c\")"
   ]
  },
  {
   "cell_type": "code",
   "execution_count": null,
   "id": "b9984764",
   "metadata": {},
   "outputs": [],
   "source": [
    "# key가 딕셔너리안에 있는지 확인 (in)ㅁ"
   ]
  },
  {
   "cell_type": "code",
   "execution_count": 192,
   "id": "583d81c5",
   "metadata": {},
   "outputs": [
    {
     "data": {
      "text/plain": [
       "True"
      ]
     },
     "execution_count": 192,
     "metadata": {},
     "output_type": "execute_result"
    }
   ],
   "source": [
    "1 in a"
   ]
  },
  {
   "cell_type": "markdown",
   "id": "96de4ec5",
   "metadata": {},
   "source": [
    "## 집합 자료형"
   ]
  },
  {
   "cell_type": "code",
   "execution_count": null,
   "id": "14a45df7",
   "metadata": {},
   "outputs": [],
   "source": []
  },
  {
   "cell_type": "code",
   "execution_count": null,
   "id": "e44ffaa9",
   "metadata": {},
   "outputs": [],
   "source": []
  }
 ],
 "metadata": {
  "interpreter": {
   "hash": "4ca129c80831ff4cd7962e61f2d55cfe45c0a2c843f30993823b28e2471e53be"
  },
  "kernelspec": {
   "display_name": "Python 3 (ipykernel)",
   "language": "python",
   "name": "python3"
  },
  "language_info": {
   "codemirror_mode": {
    "name": "ipython",
    "version": 3
   },
   "file_extension": ".py",
   "mimetype": "text/x-python",
   "name": "python",
   "nbconvert_exporter": "python",
   "pygments_lexer": "ipython3",
   "version": "3.9.7"
  }
 },
 "nbformat": 4,
 "nbformat_minor": 5
}

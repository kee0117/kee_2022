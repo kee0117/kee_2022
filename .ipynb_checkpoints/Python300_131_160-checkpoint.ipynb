{
 "cells": [
  {
   "cell_type": "markdown",
   "id": "0e181399",
   "metadata": {},
   "source": [
    "초보자를 위한 파이썬 300제 <br>\n",
    "Python300_131_160 <br>\n",
    "문제: 131~150  <br>\n",
    "시작일: 2022.05.22 <br>\n",
    "완료일: 2022.05.22 <br>\n",
    "URL: https://wikidocs.net/7014 <br>\n",
    "도움: https://www.youtube.com/playlist?list=PLNPt2ycoheHqhS_OP4XA8nWycWQWnQtki <br>"
   ]
  },
  {
   "cell_type": "code",
   "execution_count": 2,
   "id": "2c0a59d4",
   "metadata": {},
   "outputs": [
    {
     "name": "stdout",
     "output_type": "stream",
     "text": [
      "사과\n",
      "귤\n",
      "수박\n"
     ]
    }
   ],
   "source": [
    "#131\n",
    "과일 = [\"사과\", \"귤\", \"수박\"]\n",
    "for 변수 in 과일:\n",
    "    print(변수)"
   ]
  },
  {
   "cell_type": "code",
   "execution_count": 3,
   "id": "5951ce6e",
   "metadata": {},
   "outputs": [
    {
     "name": "stdout",
     "output_type": "stream",
     "text": [
      "#####\n",
      "#####\n",
      "#####\n"
     ]
    }
   ],
   "source": [
    "#132\n",
    "과일 = [\"사과\", \"귤\", \"수박\"]\n",
    "for 변수 in 과일:\n",
    "    print(\"#####\")"
   ]
  },
  {
   "cell_type": "code",
   "execution_count": 7,
   "id": "e25cbb8c",
   "metadata": {},
   "outputs": [
    {
     "name": "stdout",
     "output_type": "stream",
     "text": [
      "A\n",
      "B\n",
      "C\n"
     ]
    }
   ],
   "source": [
    "#133\n",
    "for 변수 in [\"A\", \"B\", \"C\"]:\n",
    "    print(변수)"
   ]
  },
  {
   "cell_type": "code",
   "execution_count": 14,
   "id": "7198e4c6",
   "metadata": {},
   "outputs": [
    {
     "name": "stdout",
     "output_type": "stream",
     "text": [
      "출력: A\n",
      "출력: B\n",
      "출력: C\n",
      "출력: A\n",
      "출력: B\n",
      "출력: C\n"
     ]
    }
   ],
   "source": [
    "#134\n",
    "for 변수 in [\"A\",\"B\",\"C\"]:\n",
    "    print(\"출력:\", 변수)\n",
    "\n",
    "print(\"출력: A\")\n",
    "print(\"출력: B\")\n",
    "print(\"출력: C\")"
   ]
  },
  {
   "cell_type": "code",
   "execution_count": 15,
   "id": "45aeffc7",
   "metadata": {},
   "outputs": [],
   "source": [
    "#135\n"
   ]
  },
  {
   "cell_type": "code",
   "execution_count": 16,
   "id": "ac575cec",
   "metadata": {},
   "outputs": [
    {
     "name": "stdout",
     "output_type": "stream",
     "text": [
      "10\n",
      "20\n",
      "30\n"
     ]
    }
   ],
   "source": [
    "#136 다음 코드를 for문으로 작성하라\n",
    "변수 = 10\n",
    "print(변수)\n",
    "변수 = 20\n",
    "print(변수)\n",
    "변수 = 30\n",
    "print(변수)\n"
   ]
  },
  {
   "cell_type": "code",
   "execution_count": 18,
   "id": "11cb2ffe",
   "metadata": {},
   "outputs": [
    {
     "name": "stdout",
     "output_type": "stream",
     "text": [
      "10\n",
      "20\n",
      "30\n"
     ]
    }
   ],
   "source": [
    "#136\n",
    "for 변수 in [\"10\",\"20\",\"30\"]:\n",
    "    print(변수)"
   ]
  },
  {
   "cell_type": "code",
   "execution_count": 19,
   "id": "298eaa2f",
   "metadata": {},
   "outputs": [
    {
     "name": "stdout",
     "output_type": "stream",
     "text": [
      "10\n",
      "20\n",
      "30\n"
     ]
    }
   ],
   "source": [
    "#137 다음 코드를 for문으로 작성하라.\n",
    "\n",
    "print(10)\n",
    "print(20)\n",
    "print(30)\n",
    "\n"
   ]
  },
  {
   "cell_type": "code",
   "execution_count": 20,
   "id": "38fc809c",
   "metadata": {},
   "outputs": [
    {
     "name": "stdout",
     "output_type": "stream",
     "text": [
      "10\n",
      "20\n",
      "30\n"
     ]
    }
   ],
   "source": [
    "#137\n",
    "for 변수 in [\"10\",\"20\",\"30\"]:\n",
    "    print(변수)"
   ]
  },
  {
   "cell_type": "code",
   "execution_count": 21,
   "id": "fa7975f4",
   "metadata": {},
   "outputs": [
    {
     "name": "stdout",
     "output_type": "stream",
     "text": [
      "10\n",
      "-------\n",
      "20\n",
      "-------\n",
      "30\n",
      "-------\n"
     ]
    }
   ],
   "source": [
    "#138 다음 코드를 for문으로 작성하라.\n",
    "\n",
    "print(10)\n",
    "print(\"-------\")\n",
    "print(20)\n",
    "print(\"-------\")\n",
    "print(30)\n",
    "print(\"-------\")\n"
   ]
  },
  {
   "cell_type": "code",
   "execution_count": 23,
   "id": "1c1ac881",
   "metadata": {},
   "outputs": [
    {
     "name": "stdout",
     "output_type": "stream",
     "text": [
      "10\n",
      "_____\n",
      "20\n",
      "_____\n",
      "30\n",
      "_____\n"
     ]
    }
   ],
   "source": [
    "#138\n",
    "for 변수 in [\"10\",\"20\",\"30\"]:\n",
    "    print(변수)\n",
    "    print(\"_____\")"
   ]
  },
  {
   "cell_type": "code",
   "execution_count": 24,
   "id": "65cbaeb6",
   "metadata": {},
   "outputs": [
    {
     "name": "stdout",
     "output_type": "stream",
     "text": [
      "++++\n",
      "10\n",
      "20\n",
      "30\n"
     ]
    }
   ],
   "source": [
    "#139 다음 코드를 for문으로 작성하라.\n",
    "\n",
    "print(\"++++\")\n",
    "print(10)\n",
    "print(20)\n",
    "print(30)"
   ]
  },
  {
   "cell_type": "code",
   "execution_count": 25,
   "id": "a23e2754",
   "metadata": {},
   "outputs": [
    {
     "name": "stdout",
     "output_type": "stream",
     "text": [
      "++++\n",
      "10\n",
      "20\n",
      "30\n"
     ]
    }
   ],
   "source": [
    "#139\n",
    "print(\"++++\")\n",
    "for 변수 in [\"10\",\"20\",\"30\"]:\n",
    "    print(변수)"
   ]
  },
  {
   "cell_type": "code",
   "execution_count": 26,
   "id": "58ce901c",
   "metadata": {},
   "outputs": [
    {
     "name": "stdout",
     "output_type": "stream",
     "text": [
      "-------\n",
      "-------\n",
      "-------\n",
      "-------\n"
     ]
    }
   ],
   "source": [
    "#140 다음 코드를 for문으로 작성하라.\n",
    "\n",
    "print(\"-------\")\n",
    "print(\"-------\")\n",
    "print(\"-------\")\n",
    "print(\"-------\")"
   ]
  },
  {
   "cell_type": "code",
   "execution_count": 27,
   "id": "ab26aee2",
   "metadata": {},
   "outputs": [
    {
     "name": "stdout",
     "output_type": "stream",
     "text": [
      "______\n",
      "______\n",
      "______\n",
      "______\n"
     ]
    }
   ],
   "source": [
    "#140\n",
    "for 변수 in [\"1\",\"2\",\"3\",\"4\"]:\n",
    "    print(\"______\")"
   ]
  },
  {
   "cell_type": "code",
   "execution_count": 33,
   "id": "576354a1",
   "metadata": {},
   "outputs": [
    {
     "name": "stdout",
     "output_type": "stream",
     "text": [
      "110\n",
      "210\n",
      "310\n"
     ]
    }
   ],
   "source": [
    "#141\n",
    "리스트 = [100,200,300]\n",
    "\n",
    "for 변수 in 리스트:\n",
    "    print(변수+10)"
   ]
  },
  {
   "cell_type": "code",
   "execution_count": 34,
   "id": "03332e89",
   "metadata": {},
   "outputs": [
    {
     "name": "stdout",
     "output_type": "stream",
     "text": [
      "오늘의 메뉴: 김밥\n",
      "오늘의 메뉴: 라면\n",
      "오늘의 메뉴: 튀김\n"
     ]
    }
   ],
   "source": [
    "#142\n",
    "리스트 = [\"김밥\", \"라면\", \"튀김\"]\n",
    "for 변수 in 리스트:\n",
    "    print(\"오늘의 메뉴:\",변수)"
   ]
  },
  {
   "cell_type": "code",
   "execution_count": 36,
   "id": "51643cf4",
   "metadata": {},
   "outputs": [
    {
     "name": "stdout",
     "output_type": "stream",
     "text": [
      "6\n",
      "4\n",
      "4\n"
     ]
    }
   ],
   "source": [
    "#143\n",
    "리스트 = [\"SK하이닉스\", \"삼성전자\", \"LG전자\"]\n",
    "\n",
    "for 변수 in 리스트:\n",
    "    print(len(변수))"
   ]
  },
  {
   "cell_type": "code",
   "execution_count": 44,
   "id": "2170dac2",
   "metadata": {},
   "outputs": [
    {
     "name": "stdout",
     "output_type": "stream",
     "text": [
      "dog 3\n",
      "cat 3\n",
      "parrot 6\n"
     ]
    }
   ],
   "source": [
    "#144\n",
    "리스트 = ['dog', 'cat', 'parrot']\n",
    "\n",
    "for 변수 in 리스트:\n",
    "    print(변수, len(변수))"
   ]
  },
  {
   "cell_type": "code",
   "execution_count": 52,
   "id": "e8ffc9b5",
   "metadata": {},
   "outputs": [
    {
     "name": "stdout",
     "output_type": "stream",
     "text": [
      "d\n",
      "c\n",
      "p\n"
     ]
    }
   ],
   "source": [
    "#145\n",
    "리스트 = ['dog', 'cat', 'parrot']\n",
    "\n",
    "for data in 리스트:\n",
    "    print(data[:1])"
   ]
  },
  {
   "cell_type": "code",
   "execution_count": 56,
   "id": "3639deeb",
   "metadata": {},
   "outputs": [
    {
     "name": "stdout",
     "output_type": "stream",
     "text": [
      "3 X 1\n",
      "3 X 2\n",
      "3 X 3\n"
     ]
    }
   ],
   "source": [
    "#146\n",
    "\n",
    "리스트 = [1,2,3]\n",
    "\n",
    "for 변수 in 리스트:\n",
    "    print(\"3 X\", 변수)"
   ]
  },
  {
   "cell_type": "code",
   "execution_count": 58,
   "id": "45c527da",
   "metadata": {},
   "outputs": [
    {
     "name": "stdout",
     "output_type": "stream",
     "text": [
      "3 X 1 = 3\n",
      "3 X 2 = 6\n",
      "3 X 3 = 9\n"
     ]
    }
   ],
   "source": [
    "#137\n",
    "\n",
    "리스트 = [1, 2, 3]\n",
    "for 변수 in 리스트:\n",
    "    print(\"3 X\",변수,\"=\",3 * 변수)"
   ]
  },
  {
   "cell_type": "code",
   "execution_count": 65,
   "id": "78ceb600",
   "metadata": {},
   "outputs": [
    {
     "name": "stdout",
     "output_type": "stream",
     "text": [
      "나\n",
      "다\n",
      "라\n"
     ]
    }
   ],
   "source": [
    "#148\n",
    "리스트 = [\"가\", \"나\", \"다\", \"라\"]\n",
    "\n",
    "for 변수 in 리스트[1:]:\n",
    "    print(변수)"
   ]
  },
  {
   "cell_type": "code",
   "execution_count": 66,
   "id": "51630341",
   "metadata": {},
   "outputs": [
    {
     "name": "stdout",
     "output_type": "stream",
     "text": [
      "가\n",
      "다\n"
     ]
    }
   ],
   "source": [
    "#149\n",
    "리스트 = [\"가\", \"나\", \"다\", \"라\"]\n",
    "\n",
    "for 변수 in 리스트[::2]:\n",
    "    print(변수)"
   ]
  },
  {
   "cell_type": "code",
   "execution_count": 70,
   "id": "00e55368",
   "metadata": {},
   "outputs": [
    {
     "name": "stdout",
     "output_type": "stream",
     "text": [
      "라\n",
      "다\n",
      "나\n",
      "가\n"
     ]
    }
   ],
   "source": [
    "#150\n",
    "리스트 = [\"가\", \"나\", \"다\", \"라\"]\n",
    "for 변수 in 리스트[::-1]:\n",
    "    print(변수)"
   ]
  },
  {
   "cell_type": "code",
   "execution_count": 72,
   "id": "8a62c128",
   "metadata": {},
   "outputs": [
    {
     "name": "stdout",
     "output_type": "stream",
     "text": [
      "-20\n",
      "-3\n"
     ]
    }
   ],
   "source": [
    "#151\n",
    "리스트 = [3, -20, -3, 44]\n",
    "\n",
    "for 변수 in 리스트:\n",
    "    if 변수 < 0:\n",
    "        print(변수)"
   ]
  },
  {
   "cell_type": "code",
   "execution_count": 74,
   "id": "9dfd17d2",
   "metadata": {},
   "outputs": [
    {
     "name": "stdout",
     "output_type": "stream",
     "text": [
      "3\n"
     ]
    }
   ],
   "source": [
    "#152\n",
    "리스트 = [3, 100, 23, 44]\n",
    "\n",
    "for 변수 in 리스트:\n",
    "    if 변수 % 3 == 0:\n",
    "        print(변수)"
   ]
  },
  {
   "cell_type": "code",
   "execution_count": 76,
   "id": "0ecf9961",
   "metadata": {},
   "outputs": [
    {
     "name": "stdout",
     "output_type": "stream",
     "text": [
      "12\n",
      "18\n"
     ]
    }
   ],
   "source": [
    "#153\n",
    "리스트 = [13, 21, 12, 14, 30, 18]\n",
    "\n",
    "for 변수 in 리스트:\n",
    "    if 변수 < 20 and 변수 % 3 == 0:\n",
    "            print(변수)"
   ]
  },
  {
   "cell_type": "code",
   "execution_count": 78,
   "id": "6af3c78b",
   "metadata": {},
   "outputs": [
    {
     "name": "stdout",
     "output_type": "stream",
     "text": [
      "study\n",
      "python\n",
      "language\n"
     ]
    }
   ],
   "source": [
    "#154\n",
    "리스트 = [\"I\", \"study\", \"python\", \"language\", \"!\"]\n",
    "\n",
    "for 변수 in 리스트:\n",
    "    if len(변수) >= 3:\n",
    "        print(변수)\n",
    "        "
   ]
  },
  {
   "cell_type": "code",
   "execution_count": 79,
   "id": "0e939072",
   "metadata": {},
   "outputs": [
    {
     "name": "stdout",
     "output_type": "stream",
     "text": [
      "A\n",
      "D\n"
     ]
    }
   ],
   "source": [
    "#155\n",
    "리스트 = [\"A\", \"b\", \"c\", \"D\"]\n",
    "\n",
    "for 변수 in 리스트:\n",
    "    if 변수.isupper():\n",
    "        print(변수)"
   ]
  },
  {
   "cell_type": "code",
   "execution_count": 82,
   "id": "e5a981d9",
   "metadata": {},
   "outputs": [
    {
     "name": "stdout",
     "output_type": "stream",
     "text": [
      "b\n",
      "c\n"
     ]
    }
   ],
   "source": [
    "#156\n",
    "리스트 = [\"A\", \"b\", \"c\", \"D\"]\n",
    "\n",
    "for 변수 in 리스트:\n",
    "    if 변수.isupper() == False:\n",
    "        print(변수)"
   ]
  },
  {
   "cell_type": "code",
   "execution_count": 95,
   "id": "cd318027",
   "metadata": {},
   "outputs": [
    {
     "name": "stdout",
     "output_type": "stream",
     "text": [
      "Dog\n",
      "Cat\n",
      "Parrot\n"
     ]
    }
   ],
   "source": [
    "#157\n",
    "리스트 = ['dog', 'cat', 'parrot']\n",
    "\n",
    "for 변수 in 리스트:\n",
    "    print(변수[0].upper() + 변수[1:])"
   ]
  },
  {
   "cell_type": "code",
   "execution_count": 103,
   "id": "146e0ed5",
   "metadata": {},
   "outputs": [
    {
     "name": "stdout",
     "output_type": "stream",
     "text": [
      "hello\n",
      "ex01\n",
      "intro\n"
     ]
    }
   ],
   "source": [
    "#159\n",
    "리스트 = ['hello.py', 'ex01.py', 'intro.hwp']\n",
    "\n",
    "for 변수 in 리스트:\n",
    "    split = 변수.split(\".\")\n",
    "    print(split[0])"
   ]
  },
  {
   "cell_type": "code",
   "execution_count": 107,
   "id": "90e789b6",
   "metadata": {},
   "outputs": [
    {
     "name": "stdout",
     "output_type": "stream",
     "text": [
      "intra.h\n",
      "intra.c\n",
      "define.h\n"
     ]
    }
   ],
   "source": [
    "#159\n",
    "리스트 = ['intra.h', 'intra.c', 'define.h', 'run.py']\n",
    "\n",
    "for 변수 in 리스트:\n",
    "    split = 변수.split(\".\")\n",
    "    if split[1] == \"h\" or split[1] == \"c\":\n",
    "        print(변수)"
   ]
  },
  {
   "cell_type": "code",
   "execution_count": null,
   "id": "0ec71766",
   "metadata": {},
   "outputs": [],
   "source": []
  },
  {
   "cell_type": "code",
   "execution_count": null,
   "id": "8086ea5d",
   "metadata": {},
   "outputs": [],
   "source": []
  },
  {
   "cell_type": "code",
   "execution_count": null,
   "id": "3cd7c85e",
   "metadata": {},
   "outputs": [],
   "source": []
  },
  {
   "cell_type": "code",
   "execution_count": null,
   "id": "8550ec21",
   "metadata": {},
   "outputs": [],
   "source": []
  },
  {
   "cell_type": "code",
   "execution_count": null,
   "id": "aa36686a",
   "metadata": {},
   "outputs": [],
   "source": []
  },
  {
   "cell_type": "code",
   "execution_count": null,
   "id": "3c9886bf",
   "metadata": {},
   "outputs": [],
   "source": []
  },
  {
   "cell_type": "code",
   "execution_count": null,
   "id": "f88ce1cd",
   "metadata": {},
   "outputs": [],
   "source": []
  }
 ],
 "metadata": {
  "kernelspec": {
   "display_name": "Python 3 (ipykernel)",
   "language": "python",
   "name": "python3"
  },
  "language_info": {
   "codemirror_mode": {
    "name": "ipython",
    "version": 3
   },
   "file_extension": ".py",
   "mimetype": "text/x-python",
   "name": "python",
   "nbconvert_exporter": "python",
   "pygments_lexer": "ipython3",
   "version": "3.9.7"
  }
 },
 "nbformat": 4,
 "nbformat_minor": 5
}

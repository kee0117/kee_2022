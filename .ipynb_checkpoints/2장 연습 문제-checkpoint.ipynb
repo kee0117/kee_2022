{
 "cells": [
  {
   "cell_type": "markdown",
   "id": "d1d7df47",
   "metadata": {},
   "source": [
    "Q1. 평균 점수 구하기"
   ]
  },
  {
   "cell_type": "code",
   "execution_count": 1,
   "id": "1f852cb7",
   "metadata": {},
   "outputs": [
    {
     "data": {
      "text/plain": [
       "70.0"
      ]
     },
     "execution_count": 1,
     "metadata": {},
     "output_type": "execute_result"
    }
   ],
   "source": [
    "(80 + 75 + 55) / 3"
   ]
  },
  {
   "cell_type": "markdown",
   "id": "dddfc4a1",
   "metadata": {},
   "source": [
    "Q2. 자연수 13이 홀수인지 짝수인지 확인 방버"
   ]
  },
  {
   "cell_type": "code",
   "execution_count": 17,
   "id": "40abd853",
   "metadata": {},
   "outputs": [
    {
     "data": {
      "text/plain": [
       "1"
      ]
     },
     "execution_count": 17,
     "metadata": {},
     "output_type": "execute_result"
    }
   ],
   "source": [
    "13 % 2 #값이 0이 아니면 홀수임"
   ]
  },
  {
   "cell_type": "markdown",
   "id": "5143fa87",
   "metadata": {},
   "source": [
    "Q3. 주민등록번호를 나눠서 출력하기"
   ]
  },
  {
   "cell_type": "code",
   "execution_count": 23,
   "id": "fe9742c4",
   "metadata": {},
   "outputs": [],
   "source": [
    "a = \"881120-1068234\"\n",
    "year = a[:4]\n",
    "month = a[4:6]\n",
    "day = a[6:8]\n",
    "ather = a[8:]"
   ]
  },
  {
   "cell_type": "code",
   "execution_count": 24,
   "id": "1b899553",
   "metadata": {},
   "outputs": [
    {
     "data": {
      "text/plain": [
       "'881120-1068234'"
      ]
     },
     "execution_count": 24,
     "metadata": {},
     "output_type": "execute_result"
    }
   ],
   "source": [
    "year + month + day + ather"
   ]
  },
  {
   "cell_type": "markdown",
   "id": "a2204874",
   "metadata": {},
   "source": [
    "Q4. 주민등록번호의 성별 숫자 출력"
   ]
  },
  {
   "cell_type": "code",
   "execution_count": 27,
   "id": "0ba97839",
   "metadata": {},
   "outputs": [
    {
     "data": {
      "text/plain": [
       "'1'"
      ]
     },
     "execution_count": 27,
     "metadata": {},
     "output_type": "execute_result"
    }
   ],
   "source": [
    "a[7]"
   ]
  },
  {
   "cell_type": "markdown",
   "id": "f51fbb27",
   "metadata": {},
   "source": [
    "Q5. 다음과 같은 문자열 a:b:c:d가 있다. 문자열의 replace 함수를 사용하여 a#b#c#d로 바꿔서 출력해 보자."
   ]
  },
  {
   "cell_type": "code",
   "execution_count": null,
   "id": "9494dc6d",
   "metadata": {},
   "outputs": [],
   "source": []
  },
  {
   "cell_type": "code",
   "execution_count": null,
   "id": "7fbcbc17",
   "metadata": {},
   "outputs": [],
   "source": []
  },
  {
   "cell_type": "code",
   "execution_count": null,
   "id": "e70e44c3",
   "metadata": {},
   "outputs": [],
   "source": []
  },
  {
   "cell_type": "code",
   "execution_count": null,
   "id": "2a755edf",
   "metadata": {},
   "outputs": [],
   "source": []
  },
  {
   "cell_type": "code",
   "execution_count": null,
   "id": "57f1fd98",
   "metadata": {},
   "outputs": [],
   "source": []
  },
  {
   "cell_type": "markdown",
   "id": "1354c29a",
   "metadata": {},
   "source": [
    "Q6. [1, 3, 5, 4, 2] 리스트를 [5, 4, 3, 2, 1]로 만들어 보자."
   ]
  },
  {
   "cell_type": "code",
   "execution_count": null,
   "id": "1ab97813",
   "metadata": {},
   "outputs": [],
   "source": []
  },
  {
   "cell_type": "markdown",
   "id": "8ab478cb",
   "metadata": {},
   "source": [
    "Q7. ['Life', 'is', 'too', 'short'] 리스트를 Life is too short 문자열로 만들어 출력해 보자."
   ]
  },
  {
   "cell_type": "code",
   "execution_count": null,
   "id": "f84fdb66",
   "metadata": {},
   "outputs": [],
   "source": []
  },
  {
   "cell_type": "markdown",
   "id": "b0cefe65",
   "metadata": {},
   "source": [
    "Q8. (1,2,3) 튜플에 값 4를 추가하여 (1,2,3,4)를 만들어 출력해 보자."
   ]
  },
  {
   "cell_type": "code",
   "execution_count": null,
   "id": "8ce2408e",
   "metadata": {},
   "outputs": [],
   "source": []
  },
  {
   "cell_type": "markdown",
   "id": "3a3b97ab",
   "metadata": {},
   "source": []
  },
  {
   "cell_type": "code",
   "execution_count": null,
   "id": "34e140c1",
   "metadata": {},
   "outputs": [],
   "source": []
  },
  {
   "cell_type": "code",
   "execution_count": null,
   "id": "1a4e0526",
   "metadata": {},
   "outputs": [],
   "source": []
  },
  {
   "cell_type": "code",
   "execution_count": null,
   "id": "4573e732",
   "metadata": {},
   "outputs": [],
   "source": []
  }
 ],
 "metadata": {
  "kernelspec": {
   "display_name": "Python 3 (ipykernel)",
   "language": "python",
   "name": "python3"
  },
  "language_info": {
   "codemirror_mode": {
    "name": "ipython",
    "version": 3
   },
   "file_extension": ".py",
   "mimetype": "text/x-python",
   "name": "python",
   "nbconvert_exporter": "python",
   "pygments_lexer": "ipython3",
   "version": "3.9.7"
  }
 },
 "nbformat": 4,
 "nbformat_minor": 5
}

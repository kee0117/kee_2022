{
 "cells": [
  {
   "cell_type": "markdown",
   "id": "26316a45",
   "metadata": {},
   "source": [
    "정수(int) = 12, -12, 0\n",
    "실수(float) = 1.2 / -1.2"
   ]
  },
  {
   "cell_type": "code",
   "execution_count": 64,
   "id": "df80a80f",
   "metadata": {},
   "outputs": [
    {
     "name": "stdout",
     "output_type": "stream",
     "text": [
      "7\n",
      "12\n",
      "-1\n",
      "0.75\n",
      "81 제곱\n",
      "1 나누고 남은 값\n",
      "1 나눗셈 후 몫을 반환\n"
     ]
    }
   ],
   "source": [
    "a = 3\n",
    "b = 4\n",
    "\n",
    "print(a+b) \n",
    "print(a*b)\n",
    "print(a-b)\n",
    "print(a/b)\n",
    "print(a**b, \"제곱\")\n",
    "print(b%a, \"나누고 남은 값\")\n",
    "print(b//a, \"나눗셈 후 몫을 반환\")\n"
   ]
  },
  {
   "cell_type": "code",
   "execution_count": 65,
   "id": "b9503e3a",
   "metadata": {},
   "outputs": [
    {
     "name": "stdout",
     "output_type": "stream",
     "text": [
      "Python's favorite food is perl 큰따옴표로 작은 따옴표 감싸기\n",
      "\"Python is very easy.\" he says. 작은 따옴표로 큰 따옴표 감싸기\n",
      "Python's favorite food is perl 백슬래시로 둘다 감싸기\n",
      "Life is too short \n",
      " You need python /n 으로 줄 바꾸기\n",
      "Life is too short\n",
      "You need python 따옴표 3개 사용\n"
     ]
    }
   ],
   "source": [
    "print(\"Python's favorite food is perl\",\"큰따옴표로 작은 따옴표 감싸기\")\n",
    "print('\"Python is very easy.\" he says.',\"작은 따옴표로 큰 따옴표 감싸기\")\n",
    "print('Python\\'s favorite food is perl', \"백슬래시로 둘다 감싸기\")\n",
    "print(\"Life is too short \\n You need python\", \"/n 으로 줄 바꾸기\")\n",
    "print(\"\"\"Life is too short\n",
    "You need python\"\"\",\"따옴표 3개 사용\")"
   ]
  },
  {
   "cell_type": "code",
   "execution_count": 66,
   "id": "a317e453",
   "metadata": {},
   "outputs": [
    {
     "data": {
      "text/plain": [
       "'hello is fun!'"
      ]
     },
     "execution_count": 66,
     "metadata": {},
     "output_type": "execute_result"
    }
   ],
   "source": [
    "head = \"hello\"\n",
    "tail = \" is fun!\"\n",
    "head + tail"
   ]
  },
  {
   "cell_type": "code",
   "execution_count": 67,
   "id": "21f655d5",
   "metadata": {},
   "outputs": [
    {
     "name": "stdout",
     "output_type": "stream",
     "text": [
      "====================\n",
      "hellohello\n",
      "====================\n"
     ]
    }
   ],
   "source": [
    "print(\"=\" * 20)\n",
    "print(head * 2)\n",
    "print(\"=\" * 20)"
   ]
  },
  {
   "cell_type": "code",
   "execution_count": 68,
   "id": "c7bd73af",
   "metadata": {},
   "outputs": [
    {
     "data": {
      "text/plain": [
       "5"
      ]
     },
     "execution_count": 68,
     "metadata": {},
     "output_type": "execute_result"
    }
   ],
   "source": [
    "len(head)"
   ]
  },
  {
   "cell_type": "code",
   "execution_count": 69,
   "id": "bcd1c25d",
   "metadata": {},
   "outputs": [
    {
     "data": {
      "text/plain": [
       "'e'"
      ]
     },
     "execution_count": 69,
     "metadata": {},
     "output_type": "execute_result"
    }
   ],
   "source": [
    "head[1] #파이썬은 0부터 세기 시작"
   ]
  },
  {
   "cell_type": "code",
   "execution_count": 70,
   "id": "03e69773",
   "metadata": {},
   "outputs": [
    {
     "data": {
      "text/plain": [
       "'o'"
      ]
     },
     "execution_count": 70,
     "metadata": {},
     "output_type": "execute_result"
    }
   ],
   "source": [
    "head[-1] #인덱싱의 -값은 뒤에서부터, 단 뒤에서부터는 -1부터"
   ]
  },
  {
   "cell_type": "code",
   "execution_count": 71,
   "id": "f238705c",
   "metadata": {},
   "outputs": [
    {
     "name": "stdout",
     "output_type": "stream",
     "text": [
      "Life // 0부터 3번까지 인덱싱\n",
      "is // 중간부터 인덱싱\n",
      "You need Python // 19번 부터 인덱싱\n",
      "Life is too short // 0번부터 17번까지\n",
      "You need //마이너스 사용 가능, -7번 미포함\n"
     ]
    }
   ],
   "source": [
    "life = \"Life is too short, You need Python\"\n",
    "\n",
    "print(life[0:4], \"// 0부터 3번까지 인덱싱\")\n",
    "print(life[5:7], \"// 중간부터 인덱싱\")\n",
    "print(life[19:], \"// 19번 부터 인덱싱\")\n",
    "print(life[:17], \"// 0번부터 17번까지\")\n",
    "print(life[19:-7],\"//마이너스 사용 가능, -7번 미포함\")"
   ]
  },
  {
   "cell_type": "code",
   "execution_count": 72,
   "id": "fda55004",
   "metadata": {},
   "outputs": [],
   "source": [
    "a = \"20010331Rainy\"\n",
    "year = a[:4]\n",
    "day = a[4:8]\n",
    "weater = a[8:]"
   ]
  },
  {
   "cell_type": "code",
   "execution_count": 73,
   "id": "19bd8128",
   "metadata": {},
   "outputs": [
    {
     "name": "stdout",
     "output_type": "stream",
     "text": [
      "20010331Rainy\n"
     ]
    }
   ],
   "source": [
    "print(year + day + weater)"
   ]
  },
  {
   "cell_type": "code",
   "execution_count": 84,
   "id": "54321b8b",
   "metadata": {},
   "outputs": [
    {
     "name": "stdout",
     "output_type": "stream",
     "text": [
      "I eat 3 apples. // 숫자는 %d\n",
      "I eat five apples. // 텍스트는 %s\n"
     ]
    }
   ],
   "source": [
    "# 문자열 포매팅\n",
    "print(\"I eat %d apples.\" %3, \"// 숫자는 %d\")\n",
    "print(\"I eat %s apples.\" % \"five\", \"// 텍스트는 %s\")"
   ]
  },
  {
   "cell_type": "code",
   "execution_count": 85,
   "id": "5c02501b",
   "metadata": {},
   "outputs": [
    {
     "data": {
      "text/plain": [
       "'I eat 10 apples. so I was sick for three days.'"
      ]
     },
     "execution_count": 85,
     "metadata": {},
     "output_type": "execute_result"
    }
   ],
   "source": [
    "number = 10\n",
    "day = \"three\"\n",
    "\n",
    "\"I eat %d apples. so I was sick for %s days.\" % (number, day)"
   ]
  },
  {
   "cell_type": "code",
   "execution_count": 87,
   "id": "0a88fe73",
   "metadata": {},
   "outputs": [
    {
     "name": "stdout",
     "output_type": "stream",
     "text": [
      "Error is 98% // %s와 %를 같이 쓸때는 %%로 표기\n"
     ]
    }
   ],
   "source": [
    "print(\"Error is %d%%\" % 98, \"// %s와 %를 같이 쓸때는 %%로 표기\")"
   ]
  },
  {
   "cell_type": "code",
   "execution_count": null,
   "id": "d525830a",
   "metadata": {},
   "outputs": [],
   "source": []
  },
  {
   "cell_type": "markdown",
   "id": "0936e764",
   "metadata": {},
   "source": [
    "## 리스트 자료형"
   ]
  },
  {
   "cell_type": "code",
   "execution_count": 90,
   "id": "2279cdbf",
   "metadata": {},
   "outputs": [],
   "source": [
    "a = [1,2,3]"
   ]
  },
  {
   "cell_type": "code",
   "execution_count": 97,
   "id": "ee8dc814",
   "metadata": {},
   "outputs": [
    {
     "name": "stdout",
     "output_type": "stream",
     "text": [
      "1 // 리스트의 첫번째 요소\n",
      "3 // 리스트의 마지막 요소\n"
     ]
    }
   ],
   "source": [
    "print(a[0], \"// 리스트의 첫번째 요소\")\n",
    "print(a[-1], \"// 리스트의 마지막 요소\")"
   ]
  },
  {
   "cell_type": "code",
   "execution_count": 98,
   "id": "035958d0",
   "metadata": {},
   "outputs": [],
   "source": [
    "a = [1, 2, 3, ['a', 'b', 'c']]"
   ]
  },
  {
   "cell_type": "code",
   "execution_count": 100,
   "id": "35bb9073",
   "metadata": {},
   "outputs": [
    {
     "name": "stdout",
     "output_type": "stream",
     "text": [
      "['a', 'b', 'c'] //리스트 안에 리스트 포함 가능\n",
      "a //리스트안 리스트의 인덱싱\n"
     ]
    }
   ],
   "source": [
    "print(a[3], \"//리스트 안에 리스트 포함 가능\")\n",
    "print(a[3][0], \"//리스트안 리스트의 인덱싱\")"
   ]
  },
  {
   "cell_type": "code",
   "execution_count": 102,
   "id": "ac2a06a2",
   "metadata": {},
   "outputs": [
    {
     "data": {
      "text/plain": [
       "[1, 2]"
      ]
     },
     "execution_count": 102,
     "metadata": {},
     "output_type": "execute_result"
    }
   ],
   "source": [
    "# 리스트의 슬라이싱\n",
    "a[0:2]"
   ]
  },
  {
   "cell_type": "code",
   "execution_count": 108,
   "id": "ff1bf1d9",
   "metadata": {},
   "outputs": [
    {
     "name": "stdout",
     "output_type": "stream",
     "text": [
      "[1, 2, 3, ['a', 'b', 'c'], 4, 5, 6]\n",
      "[1, 2, 3, ['a', 'b', 'c'], 1, 2, 3, ['a', 'b', 'c']]\n",
      "3 // len()으로 길이 리스트 길이\n"
     ]
    }
   ],
   "source": [
    "# 리스트 연산\n",
    "b = [4,5,6]\n",
    "print(a+b)\n",
    "print(a*2)\n",
    "print(len(b) , \"// len()으로 길이 리스트 길이\")"
   ]
  },
  {
   "cell_type": "code",
   "execution_count": 111,
   "id": "4dc6e9cd",
   "metadata": {},
   "outputs": [
    {
     "data": {
      "text/plain": [
       "[1, 2, 4]"
      ]
     },
     "execution_count": 111,
     "metadata": {},
     "output_type": "execute_result"
    }
   ],
   "source": [
    "#리스트 값 수정\n",
    "a = [1,2,3]\n",
    "a[2] = 4\n",
    "a"
   ]
  },
  {
   "cell_type": "code",
   "execution_count": 114,
   "id": "f15c0302",
   "metadata": {},
   "outputs": [
    {
     "data": {
      "text/plain": [
       "[1, 3]"
      ]
     },
     "execution_count": 114,
     "metadata": {},
     "output_type": "execute_result"
    }
   ],
   "source": [
    "# 리스트 요소 삭제 (del)\n",
    "a = [1,2,3]\n",
    "del a[1]\n",
    "a"
   ]
  },
  {
   "cell_type": "code",
   "execution_count": 116,
   "id": "d7d532dd",
   "metadata": {},
   "outputs": [
    {
     "data": {
      "text/plain": [
       "[1, 2, 3, 4]"
      ]
     },
     "execution_count": 116,
     "metadata": {},
     "output_type": "execute_result"
    }
   ],
   "source": [
    "# 리스트 요소 추가 (append) + 어떤 자료형도 가능\n",
    "\n",
    "a = [1,2,3]\n",
    "a.append(4)\n",
    "a"
   ]
  },
  {
   "cell_type": "code",
   "execution_count": 120,
   "id": "d294b044",
   "metadata": {},
   "outputs": [
    {
     "data": {
      "text/plain": [
       "[1, 2, 3, 4]"
      ]
     },
     "execution_count": 120,
     "metadata": {},
     "output_type": "execute_result"
    }
   ],
   "source": [
    "# 리스트 정렬 (sort) + 문자열 가능\n",
    "a = [1,4,3,2]\n",
    "a.sort()\n",
    "a"
   ]
  },
  {
   "cell_type": "code",
   "execution_count": 122,
   "id": "f680c056",
   "metadata": {},
   "outputs": [
    {
     "data": {
      "text/plain": [
       "[4, 3, 2, 1]"
      ]
     },
     "execution_count": 122,
     "metadata": {},
     "output_type": "execute_result"
    }
   ],
   "source": [
    "# 리스트 뒤집기 (reverse)\n",
    "a.reverse()\n",
    "a"
   ]
  },
  {
   "cell_type": "code",
   "execution_count": 138,
   "id": "ca1a19dc",
   "metadata": {},
   "outputs": [
    {
     "data": {
      "text/plain": [
       "1"
      ]
     },
     "execution_count": 138,
     "metadata": {},
     "output_type": "execute_result"
    }
   ],
   "source": [
    "# index()의 값이 있으면 그 값의 위치 반환 (index)\n",
    "a = [1,2,3]\n",
    "a.index(2)"
   ]
  },
  {
   "cell_type": "code",
   "execution_count": 139,
   "id": "1ce198a5",
   "metadata": {},
   "outputs": [
    {
     "data": {
      "text/plain": [
       "[4, 1, 2, 3]"
      ]
     },
     "execution_count": 139,
     "metadata": {},
     "output_type": "execute_result"
    }
   ],
   "source": [
    "# insert(a,b) a번째 위치에 b 삽입\n",
    "a.insert(0,4)\n",
    "a"
   ]
  },
  {
   "cell_type": "code",
   "execution_count": 141,
   "id": "20981d60",
   "metadata": {},
   "outputs": [
    {
     "data": {
      "text/plain": [
       "[1, 2, 1, 2, 3]"
      ]
     },
     "execution_count": 141,
     "metadata": {},
     "output_type": "execute_result"
    }
   ],
   "source": [
    "#remove(x) 첫번째 나오는 x를 삭제\n",
    "a = [1,2,3,1,2,3]\n",
    "a.remove(3)\n",
    "a"
   ]
  },
  {
   "cell_type": "code",
   "execution_count": 144,
   "id": "891f5f67",
   "metadata": {},
   "outputs": [
    {
     "name": "stdout",
     "output_type": "stream",
     "text": [
      "3 // 마지막 요소 삭제\n",
      "[1, 2] //앞에 요소만 남음\n"
     ]
    }
   ],
   "source": [
    "#pop 리스트의 맨 마지막 요소 돌려주고 삭제\n",
    "a = [1,2,3]\n",
    "print(a.pop(), \"// 마지막 요소 삭제\")\n",
    "print(a, \"//앞에 요소만 남음\")"
   ]
  },
  {
   "cell_type": "code",
   "execution_count": null,
   "id": "040d17b2",
   "metadata": {},
   "outputs": [],
   "source": []
  },
  {
   "cell_type": "code",
   "execution_count": null,
   "id": "fc3517ab",
   "metadata": {},
   "outputs": [],
   "source": []
  },
  {
   "cell_type": "code",
   "execution_count": null,
   "id": "b0f0e4d2",
   "metadata": {},
   "outputs": [],
   "source": []
  },
  {
   "cell_type": "code",
   "execution_count": null,
   "id": "76f25366",
   "metadata": {},
   "outputs": [],
   "source": []
  }
 ],
 "metadata": {
  "interpreter": {
   "hash": "4ca129c80831ff4cd7962e61f2d55cfe45c0a2c843f30993823b28e2471e53be"
  },
  "kernelspec": {
   "display_name": "Python 3 (ipykernel)",
   "language": "python",
   "name": "python3"
  },
  "language_info": {
   "codemirror_mode": {
    "name": "ipython",
    "version": 3
   },
   "file_extension": ".py",
   "mimetype": "text/x-python",
   "name": "python",
   "nbconvert_exporter": "python",
   "pygments_lexer": "ipython3",
   "version": "3.9.7"
  }
 },
 "nbformat": 4,
 "nbformat_minor": 5
}

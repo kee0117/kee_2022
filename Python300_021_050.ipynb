{
 "cells": [
  {
   "cell_type": "markdown",
   "id": "596fd209",
   "metadata": {},
   "source": [
    "초보자를 위한 파이썬 300제 <br>\n",
    "Python300_021_050 <br>\n",
    "문제: 021~050  <br>\n",
    "시작일: 2022.02.19 <br>\n",
    "완료일: 2022.02.19 <br>\n",
    "URL: https://wikidocs.net/7014 <br>\n",
    "도움: https://www.youtube.com/playlist?list=PLNPt2ycoheHqhS_OP4XA8nWycWQWnQtki <br>\n"
   ]
  },
  {
   "cell_type": "code",
   "execution_count": 5,
   "id": "cfa8c444",
   "metadata": {},
   "outputs": [
    {
     "name": "stdout",
     "output_type": "stream",
     "text": [
      "p t\n"
     ]
    }
   ],
   "source": [
    "#021\n",
    "\n",
    "letters = \"python\"\n",
    "\n",
    "print(letters[0], letters[2])"
   ]
  },
  {
   "cell_type": "code",
   "execution_count": 14,
   "id": "2cc039b1",
   "metadata": {},
   "outputs": [
    {
     "data": {
      "text/plain": [
       "'2210'"
      ]
     },
     "execution_count": 14,
     "metadata": {},
     "output_type": "execute_result"
    }
   ],
   "source": [
    "#022\n",
    "\n",
    "licence_plate = \"24가 2210\"\n",
    "\n",
    "licence_plate[4:]"
   ]
  },
  {
   "cell_type": "code",
   "execution_count": 19,
   "id": "d2ad484b",
   "metadata": {},
   "outputs": [
    {
     "name": "stdout",
     "output_type": "stream",
     "text": [
      "홀홀홀\n"
     ]
    }
   ],
   "source": [
    "#023\n",
    "\n",
    "string = \"홀짝홀짝홀짝\"\n",
    "\n",
    "print(string[::2])"
   ]
  },
  {
   "cell_type": "code",
   "execution_count": 28,
   "id": "e8e8a802",
   "metadata": {},
   "outputs": [
    {
     "name": "stdout",
     "output_type": "stream",
     "text": [
      "NOHTYP\n"
     ]
    }
   ],
   "source": [
    "#024\n",
    "\n",
    "string = \"PYTHON\"\n",
    "print(string[::-1])"
   ]
  },
  {
   "cell_type": "code",
   "execution_count": 34,
   "id": "cddf33f4",
   "metadata": {},
   "outputs": [
    {
     "name": "stdout",
     "output_type": "stream",
     "text": [
      "010 6868 2881\n"
     ]
    }
   ],
   "source": [
    "#025\n",
    "\n",
    "phone_number = \"010-6868-2881\"\n",
    "print(phone_number.replace(\"-\",\" \"))"
   ]
  },
  {
   "cell_type": "code",
   "execution_count": 35,
   "id": "2d99e886",
   "metadata": {},
   "outputs": [
    {
     "name": "stdout",
     "output_type": "stream",
     "text": [
      "01068682881\n"
     ]
    }
   ],
   "source": [
    "#026\n",
    "\n",
    "phone_number = \"010-6868-2881\"\n",
    "print(phone_number.replace(\"-\",\"\"))"
   ]
  },
  {
   "cell_type": "code",
   "execution_count": 42,
   "id": "1835dc57",
   "metadata": {},
   "outputs": [
    {
     "name": "stdout",
     "output_type": "stream",
     "text": [
      "kr\n"
     ]
    }
   ],
   "source": [
    "#027\n",
    "\n",
    "url = \"http://sharebook.kr\"\n",
    "\n",
    "print(url[-2:])"
   ]
  },
  {
   "cell_type": "code",
   "execution_count": 44,
   "id": "b5c4c9f5",
   "metadata": {},
   "outputs": [
    {
     "ename": "TypeError",
     "evalue": "'str' object does not support item assignment",
     "output_type": "error",
     "traceback": [
      "\u001b[0;31m---------------------------------------------------------------------------\u001b[0m",
      "\u001b[0;31mTypeError\u001b[0m                                 Traceback (most recent call last)",
      "\u001b[0;32m/var/folders/6d/ncj022wn6ssfsn__4xscpf6w0000gn/T/ipykernel_1454/960664129.py\u001b[0m in \u001b[0;36m<module>\u001b[0;34m\u001b[0m\n\u001b[1;32m      2\u001b[0m \u001b[0;34m\u001b[0m\u001b[0m\n\u001b[1;32m      3\u001b[0m \u001b[0mlang\u001b[0m \u001b[0;34m=\u001b[0m \u001b[0;34m\"python\"\u001b[0m\u001b[0;34m\u001b[0m\u001b[0;34m\u001b[0m\u001b[0m\n\u001b[0;32m----> 4\u001b[0;31m \u001b[0mlang\u001b[0m\u001b[0;34m[\u001b[0m\u001b[0;36m0\u001b[0m\u001b[0;34m]\u001b[0m \u001b[0;34m=\u001b[0m \u001b[0;34m\"P\"\u001b[0m\u001b[0;34m\u001b[0m\u001b[0;34m\u001b[0m\u001b[0m\n\u001b[0m\u001b[1;32m      5\u001b[0m \u001b[0;34m\u001b[0m\u001b[0m\n\u001b[1;32m      6\u001b[0m \u001b[0mprint\u001b[0m\u001b[0;34m(\u001b[0m\u001b[0mlang\u001b[0m\u001b[0;34m)\u001b[0m\u001b[0;34m\u001b[0m\u001b[0;34m\u001b[0m\u001b[0m\n",
      "\u001b[0;31mTypeError\u001b[0m: 'str' object does not support item assignment"
     ]
    }
   ],
   "source": [
    "#028\n",
    "\n",
    "lang = \"python\"\n",
    "lang[0] = \"P\"\n",
    "\n",
    "print(lang)"
   ]
  },
  {
   "cell_type": "code",
   "execution_count": 45,
   "id": "555a6c5f",
   "metadata": {},
   "outputs": [
    {
     "name": "stdout",
     "output_type": "stream",
     "text": [
      "Abcdfe2A354A32A\n"
     ]
    }
   ],
   "source": [
    "#029\n",
    "\n",
    "string = \"abcdfe2a354a32a\"\n",
    "\n",
    "print(string.replace(\"a\",\"A\"))"
   ]
  },
  {
   "cell_type": "code",
   "execution_count": 46,
   "id": "ca478950",
   "metadata": {},
   "outputs": [
    {
     "name": "stdout",
     "output_type": "stream",
     "text": [
      "abcd\n"
     ]
    }
   ],
   "source": [
    "#030\n",
    "\n",
    "string = \"abcd\"\n",
    "string.replace(\"b\",\"B\")\n",
    "\n",
    "print(string)"
   ]
  },
  {
   "cell_type": "code",
   "execution_count": 47,
   "id": "5a86bc01",
   "metadata": {},
   "outputs": [
    {
     "name": "stdout",
     "output_type": "stream",
     "text": [
      "34\n"
     ]
    }
   ],
   "source": [
    "#031\n",
    "\n",
    "a = \"3\"\n",
    "b = \"4\"\n",
    "\n",
    "print(a+b)"
   ]
  },
  {
   "cell_type": "code",
   "execution_count": 48,
   "id": "0083a57f",
   "metadata": {},
   "outputs": [
    {
     "name": "stdout",
     "output_type": "stream",
     "text": [
      "hihihi\n"
     ]
    }
   ],
   "source": [
    "#032\n",
    "\n",
    "print(\"hi\"*3)"
   ]
  },
  {
   "cell_type": "code",
   "execution_count": 49,
   "id": "98ce716a",
   "metadata": {},
   "outputs": [
    {
     "name": "stdout",
     "output_type": "stream",
     "text": [
      "--------------------------------------------------------------------------------\n"
     ]
    }
   ],
   "source": [
    "#033\n",
    "\n",
    "print(\"-\" * 80)"
   ]
  },
  {
   "cell_type": "code",
   "execution_count": 57,
   "id": "02fc21a3",
   "metadata": {},
   "outputs": [
    {
     "name": "stdout",
     "output_type": "stream",
     "text": [
      "python java python java python java python java \n"
     ]
    }
   ],
   "source": [
    "#034\n",
    "\n",
    "t1 = \"python\"\n",
    "t2 = \"java\"\n",
    "\n",
    "print((t1 + \" \" + t2 + \" \") * 4)"
   ]
  },
  {
   "cell_type": "code",
   "execution_count": 59,
   "id": "6f0bcfa9",
   "metadata": {},
   "outputs": [
    {
     "name": "stdout",
     "output_type": "stream",
     "text": [
      "이름: 김민수 나이: 10\n",
      "이름: 이희철 나이: 13\n"
     ]
    }
   ],
   "source": [
    "#035\n",
    "\n",
    "name1 = \"김민수\"\n",
    "age1 = 10\n",
    "name2 = \"이희철\"\n",
    "age2 = 13\n",
    "\n",
    "\n",
    "print(\"이름: %s 나이: %d\" % (name1, age1))\n",
    "print(\"이름: %s 나이: %d\" % (name2, age2))"
   ]
  },
  {
   "cell_type": "code",
   "execution_count": 62,
   "id": "6c6ba880",
   "metadata": {},
   "outputs": [
    {
     "name": "stdout",
     "output_type": "stream",
     "text": [
      "이름: 김민수 나이: 10\n",
      "이름: 이희철 나이: 13\n"
     ]
    }
   ],
   "source": [
    "#036\n",
    "\n",
    "print(\"이름: {} 나이: {}\".format(name1, age1))\n",
    "print(\"이름: {} 나이: {}\".format(name2, age2))"
   ]
  },
  {
   "cell_type": "code",
   "execution_count": 64,
   "id": "2bb427e8",
   "metadata": {},
   "outputs": [
    {
     "name": "stdout",
     "output_type": "stream",
     "text": [
      "이름: 김민수 나이: 10\n",
      "이름: 이희철 나이: 13\n"
     ]
    }
   ],
   "source": [
    "#037\n",
    "\n",
    "print(f\"이름: {name1} 나이: {age1}\")\n",
    "print(f\"이름: {name2} 나이: {age2}\")"
   ]
  },
  {
   "cell_type": "code",
   "execution_count": 70,
   "id": "1146b329",
   "metadata": {},
   "outputs": [
    {
     "name": "stdout",
     "output_type": "stream",
     "text": [
      "5969782550 <class 'int'>\n"
     ]
    }
   ],
   "source": [
    "#038\n",
    "\n",
    "상장주식수 = \"5,969,782,550\"\n",
    "\n",
    "상장주식수_replace = 상장주식수.replace(\",\",\"\")\n",
    "상장주식수_int = int(상장주식수_replace)\n",
    "\n",
    "print(상장주식수_int,type(상장주식수_int))"
   ]
  },
  {
   "cell_type": "code",
   "execution_count": 73,
   "id": "f0480481",
   "metadata": {},
   "outputs": [
    {
     "data": {
      "text/plain": [
       "'2020/03'"
      ]
     },
     "execution_count": 73,
     "metadata": {},
     "output_type": "execute_result"
    }
   ],
   "source": [
    "#039\n",
    "\n",
    "분기 = \"2020/03(E) (IFRS연결)\"\n",
    "\n",
    "분기[:7]"
   ]
  },
  {
   "cell_type": "code",
   "execution_count": 76,
   "id": "a03bd634",
   "metadata": {},
   "outputs": [
    {
     "data": {
      "text/plain": [
       "'삼성전자'"
      ]
     },
     "execution_count": 76,
     "metadata": {},
     "output_type": "execute_result"
    }
   ],
   "source": [
    "#040\n",
    "\n",
    "data = \"   삼성전자    \"\n",
    "\n",
    "data.strip()"
   ]
  },
  {
   "cell_type": "code",
   "execution_count": 77,
   "id": "df39f45e",
   "metadata": {},
   "outputs": [
    {
     "data": {
      "text/plain": [
       "'BTC_KRW'"
      ]
     },
     "execution_count": 77,
     "metadata": {},
     "output_type": "execute_result"
    }
   ],
   "source": [
    "#041\n",
    "\n",
    "ticker = \"btc_krw\"\n",
    "\n",
    "ticker.upper()"
   ]
  },
  {
   "cell_type": "code",
   "execution_count": 79,
   "id": "72b5106f",
   "metadata": {},
   "outputs": [
    {
     "data": {
      "text/plain": [
       "'btc_krw'"
      ]
     },
     "execution_count": 79,
     "metadata": {},
     "output_type": "execute_result"
    }
   ],
   "source": [
    "#042\n",
    "\n",
    "ticker = \"BTC_KRW\"\n",
    "ticker.lower()"
   ]
  },
  {
   "cell_type": "code",
   "execution_count": 85,
   "id": "ad8ca8a9",
   "metadata": {},
   "outputs": [
    {
     "data": {
      "text/plain": [
       "'Hello'"
      ]
     },
     "execution_count": 85,
     "metadata": {},
     "output_type": "execute_result"
    }
   ],
   "source": [
    "#043\n",
    "\n",
    "a = \"hello\"\n",
    "\n",
    "a.capitalize()"
   ]
  },
  {
   "cell_type": "code",
   "execution_count": 89,
   "id": "0ad1055b",
   "metadata": {},
   "outputs": [
    {
     "data": {
      "text/plain": [
       "True"
      ]
     },
     "execution_count": 89,
     "metadata": {},
     "output_type": "execute_result"
    }
   ],
   "source": [
    "#044\n",
    "\n",
    "file_name = \"보고서.xlsx\"\n",
    "\n",
    "file_name.endswith(\"xlsx\")"
   ]
  },
  {
   "cell_type": "code",
   "execution_count": 93,
   "id": "ef70736e",
   "metadata": {},
   "outputs": [
    {
     "data": {
      "text/plain": [
       "True"
      ]
     },
     "execution_count": 93,
     "metadata": {},
     "output_type": "execute_result"
    }
   ],
   "source": [
    "#045\n",
    "\n",
    "file_name = \"보고서.xlsx\"\n",
    "\n",
    "file_name.endswith((\"xlsx\",\"xls\"))"
   ]
  },
  {
   "cell_type": "code",
   "execution_count": 94,
   "id": "3a22f05c",
   "metadata": {},
   "outputs": [
    {
     "data": {
      "text/plain": [
       "True"
      ]
     },
     "execution_count": 94,
     "metadata": {},
     "output_type": "execute_result"
    }
   ],
   "source": [
    "#046\n",
    "\n",
    "file_name = \"2020_보고서.xlsx\"\n",
    "file_name.startswith(\"2020\")"
   ]
  },
  {
   "cell_type": "code",
   "execution_count": 101,
   "id": "eb94a24f",
   "metadata": {},
   "outputs": [
    {
     "data": {
      "text/plain": [
       "['hello', 'world']"
      ]
     },
     "execution_count": 101,
     "metadata": {},
     "output_type": "execute_result"
    }
   ],
   "source": [
    "#047\n",
    "\n",
    "a = \"hello world\"\n",
    "a.split(\" \")"
   ]
  },
  {
   "cell_type": "code",
   "execution_count": 103,
   "id": "643d0536",
   "metadata": {},
   "outputs": [
    {
     "data": {
      "text/plain": [
       "['btc', 'krw']"
      ]
     },
     "execution_count": 103,
     "metadata": {},
     "output_type": "execute_result"
    }
   ],
   "source": [
    "#048\n",
    "\n",
    "ticker = \"btc_krw\"\n",
    "ticker.split(\"_\")"
   ]
  },
  {
   "cell_type": "code",
   "execution_count": 104,
   "id": "c6fdf307",
   "metadata": {},
   "outputs": [
    {
     "data": {
      "text/plain": [
       "['2020', '05', '01']"
      ]
     },
     "execution_count": 104,
     "metadata": {},
     "output_type": "execute_result"
    }
   ],
   "source": [
    "#049\n",
    "\n",
    "date = \"2020-05-01\"\n",
    "date.split(\"-\")"
   ]
  },
  {
   "cell_type": "code",
   "execution_count": 106,
   "id": "254801c4",
   "metadata": {},
   "outputs": [
    {
     "data": {
      "text/plain": [
       "'039490'"
      ]
     },
     "execution_count": 106,
     "metadata": {},
     "output_type": "execute_result"
    }
   ],
   "source": [
    "#050\n",
    "data = \"039490     \"\n",
    "data.rstrip()"
   ]
  },
  {
   "cell_type": "code",
   "execution_count": null,
   "id": "b921746a",
   "metadata": {},
   "outputs": [],
   "source": []
  },
  {
   "cell_type": "code",
   "execution_count": null,
   "id": "2c1c8978",
   "metadata": {},
   "outputs": [],
   "source": []
  },
  {
   "cell_type": "code",
   "execution_count": null,
   "id": "ad0d13cd",
   "metadata": {},
   "outputs": [],
   "source": []
  },
  {
   "cell_type": "code",
   "execution_count": null,
   "id": "8337cff5",
   "metadata": {},
   "outputs": [],
   "source": []
  },
  {
   "cell_type": "code",
   "execution_count": null,
   "id": "d35a9d4c",
   "metadata": {},
   "outputs": [],
   "source": []
  },
  {
   "cell_type": "code",
   "execution_count": null,
   "id": "b74818a7",
   "metadata": {},
   "outputs": [],
   "source": []
  },
  {
   "cell_type": "code",
   "execution_count": null,
   "id": "443cb36d",
   "metadata": {},
   "outputs": [],
   "source": []
  }
 ],
 "metadata": {
  "kernelspec": {
   "display_name": "Python 3 (ipykernel)",
   "language": "python",
   "name": "python3"
  },
  "language_info": {
   "codemirror_mode": {
    "name": "ipython",
    "version": 3
   },
   "file_extension": ".py",
   "mimetype": "text/x-python",
   "name": "python",
   "nbconvert_exporter": "python",
   "pygments_lexer": "ipython3",
   "version": "3.9.7"
  }
 },
 "nbformat": 4,
 "nbformat_minor": 5
}
